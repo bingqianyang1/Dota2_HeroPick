{
 "cells": [
  {
   "cell_type": "markdown",
   "metadata": {
    "id": "bPS4ZlW--q4G"
   },
   "source": [
    "<div align = \"center\">\n",
    "\n",
    "<p> <font size = 5px> Winning Rate of Dota2 Learning Model </font> </p>\n",
    "<p> <font size = 5px> Based on Selection of Heroes </font> </p>\n",
    " \n",
    "</div>"
   ]
  },
  {
   "cell_type": "markdown",
   "metadata": {},
   "source": [
    "#Abstract"
   ]
  },
  {
   "cell_type": "markdown",
   "metadata": {
    "id": "CN45SlZZML8B"
   },
   "source": [
    "In this Model, we are building learning models of the winning rate of Dota 2 game based on the hero selection of the game. Since there could be many unpredictable factors in the game, and the only variable available for us is the hero selection, the model does not perform well with a high error rate. If we could have more information about the game, we may make a better prediction"
   ]
  },
  {
   "cell_type": "markdown",
   "metadata": {
    "id": "4tryUd2DuaQl"
   },
   "source": [
    "#Background"
   ]
  },
  {
   "cell_type": "markdown",
   "metadata": {
    "id": "q0ZJAKSjtraz"
   },
   "source": [
    "Dota 2 is a popular multiplayer online battle arena (MOBA) game developed and published by Valve Corporation. In Dota 2, two teams of five players each compete against each other, with the objective of destroying the enemy team's Ancient, a large structure located at each team's base.\n",
    "\n",
    "At the start of the game each player chooses a unique hero with different strengths and weaknesses. There were 113 heroes for all the players to select from. However, players cannot select repeated heroes within and across teams, which means that the hero appears at most once each game. For more information about Dota 2, please click <a href = \"https://en.wikipedia.org/wiki/Dota_2\">here</a>.\n",
    "\n",
    "In professional Dota 2 matches, hero picks and bans are a crucial aspect of the game, as the right hero combinations can give a team a significant advantage over the other. As such, there has been considerable interest in developing models that can predict which hero picks are most likely to lead to a victory."
   ]
  },
  {
   "cell_type": "markdown",
   "metadata": {
    "id": "aD3NQUDatReu"
   },
   "source": [
    "#Data Description"
   ]
  },
  {
   "cell_type": "code",
   "execution_count": 1,
   "metadata": {},
   "outputs": [],
   "source": [
    "%matplotlib inline\n",
    "import matplotlib.pyplot as plt\n",
    "import pandas as pd\n",
    "import numpy as np\n",
    "import torch"
   ]
  },
  {
   "cell_type": "code",
   "execution_count": 2,
   "metadata": {},
   "outputs": [
    {
     "name": "stdout",
     "output_type": "stream",
     "text": [
      "  % Total    % Received % Xferd  Average Speed   Time    Time     Time  Current\n",
      "                                 Dload  Upload   Total   Spent    Left  Speed\n",
      "  0     0    0     0    0     0      0      0 --:--:-- --:--:-- --:--:--     0\n",
      "100 13274  100 13274    0     0  16012      0 --:--:-- --:--:-- --:--:-- 16012\n",
      "  % Total    % Received % Xferd  Average Speed   Time    Time     Time  Current\n",
      "                                 Dload  Upload   Total   Spent    Left  Speed\n",
      "  0     0    0     0    0     0      0      0 --:--:-- --:--:-- --:--:--     0\n",
      "100 21.3M  100 21.3M    0     0  10.4M      0  0:00:02  0:00:02 --:--:-- 21.2M\n",
      "  % Total    % Received % Xferd  Average Speed   Time    Time     Time  Current\n",
      "                                 Dload  Upload   Total   Spent    Left  Speed\n",
      "  0     0    0     0    0     0      0      0 --:--:-- --:--:-- --:--:--     0- --:--:--     0\n",
      "100 2427k  100 2427k    0     0  1935k      0  0:00:01  0:00:01 --:--:-- 16.1M\n"
     ]
    }
   ],
   "source": [
    "!curl -c ./cookie -s -L \"https://drive.google.com/uc?export=download&id=105YSQRGJcrcOvSvLBSjTQSwBVJOobaxz\" > /dev/null\n",
    "!curl -Lb ./cookie \"https://drive.google.com/uc?export=download&confirm=`awk '/download/ {print $NF}' ./cookie`&id=105YSQRGJcrcOvSvLBSjTQSwBVJOobaxz\" -o \"heroes.json\"\n",
    "!curl -c ./cookie -s -L \"https://drive.google.com/uc?export=download&id=1CI6GAtXDS6Q8K8QJzzxPnGiPIIxouB15\" > /dev/null\n",
    "!curl -Lb ./cookie \"https://drive.google.com/uc?export=download&confirm=`awk '/download/ {print $NF}' ./cookie`&id=1CI6GAtXDS6Q8K8QJzzxPnGiPIIxouB15\" -o \"dota2Train.csv\"\n",
    "!curl -c ./cookie -s -L \"https://drive.google.com/uc?export=download&id=1pf-XhFCkni3cxPgjHgRKSR2vvz2nT5RK\" > /dev/null\n",
    "!curl -Lb ./cookie \"https://drive.google.com/uc?export=download&confirm=`awk '/download/ {print $NF}' ./cookie`&id=1pf-XhFCkni3cxPgjHgRKSR2vvz2nT5RK\" -o \"dota2Test.csv\""
   ]
  },
  {
   "cell_type": "markdown",
   "metadata": {},
   "source": [
    "The Dota2 Games Data Set is sourced from the UCI Machine Learning Repository and comprises 102,942 data points, each containing 117 features. The dataset contains both training and test sets, with the training set comprising 92,650 data points, and the test set containing 10,294 data points. The data is from the games that were played in a space of 2 hours on the 13th of August, 2016.\n",
    "Each row of data includes 117 columns, with the first variable being a binary variable that indicates the winner of the game, represented as 1 for the winner and -1 for the loser. The second column is the cluster ID, which is related to the game location, and the third column represents the game mode, such as \"All Pick.\" The fourth column specifies the game type, such as \"Ranked.\" The remaining columns, from the fifth column onwards, describe whether a hero is selected."
   ]
  },
  {
   "cell_type": "markdown",
   "metadata": {
    "id": "XcJmDc7h0tO0"
   },
   "source": [
    "##Variable Description"
   ]
  },
  {
   "cell_type": "markdown",
   "metadata": {
    "id": "OrpWwuFyzt5x"
   },
   "source": [
    "The hero selection feature is represented by a value of 1, which indicates that a player from team 1 played as that hero and -1 for tem 2. A value of 0 indicates that the hero is not selected. Each game allows the selection of ten heroes, with only one player able to select each hero. This means that each row has five 1 and five -1 values, and there are a total of 113 columns that correspond to different heroes."
   ]
  },
  {
   "cell_type": "code",
   "execution_count": 3,
   "metadata": {},
   "outputs": [],
   "source": [
    "train_sample = pd.read_csv(\"dota2Train.csv\", header=None)\n",
    "test_sample = pd.read_csv(\"dota2Test.csv\", header=None)"
   ]
  },
  {
   "cell_type": "code",
   "execution_count": 4,
   "metadata": {},
   "outputs": [
    {
     "data": {
      "text/html": [
       "<div>\n",
       "<style scoped>\n",
       "    .dataframe tbody tr th:only-of-type {\n",
       "        vertical-align: middle;\n",
       "    }\n",
       "\n",
       "    .dataframe tbody tr th {\n",
       "        vertical-align: top;\n",
       "    }\n",
       "\n",
       "    .dataframe thead th {\n",
       "        text-align: right;\n",
       "    }\n",
       "</style>\n",
       "<table border=\"1\" class=\"dataframe\">\n",
       "  <thead>\n",
       "    <tr style=\"text-align: right;\">\n",
       "      <th></th>\n",
       "      <th>0</th>\n",
       "      <th>1</th>\n",
       "      <th>2</th>\n",
       "      <th>3</th>\n",
       "      <th>4</th>\n",
       "      <th>5</th>\n",
       "      <th>6</th>\n",
       "      <th>7</th>\n",
       "      <th>8</th>\n",
       "      <th>9</th>\n",
       "      <th>...</th>\n",
       "      <th>107</th>\n",
       "      <th>108</th>\n",
       "      <th>109</th>\n",
       "      <th>110</th>\n",
       "      <th>111</th>\n",
       "      <th>112</th>\n",
       "      <th>113</th>\n",
       "      <th>114</th>\n",
       "      <th>115</th>\n",
       "      <th>116</th>\n",
       "    </tr>\n",
       "  </thead>\n",
       "  <tbody>\n",
       "    <tr>\n",
       "      <th>0</th>\n",
       "      <td>-1</td>\n",
       "      <td>223</td>\n",
       "      <td>2</td>\n",
       "      <td>2</td>\n",
       "      <td>0</td>\n",
       "      <td>0</td>\n",
       "      <td>0</td>\n",
       "      <td>0</td>\n",
       "      <td>0</td>\n",
       "      <td>0</td>\n",
       "      <td>...</td>\n",
       "      <td>0</td>\n",
       "      <td>0</td>\n",
       "      <td>0</td>\n",
       "      <td>0</td>\n",
       "      <td>0</td>\n",
       "      <td>0</td>\n",
       "      <td>0</td>\n",
       "      <td>0</td>\n",
       "      <td>0</td>\n",
       "      <td>0</td>\n",
       "    </tr>\n",
       "    <tr>\n",
       "      <th>1</th>\n",
       "      <td>1</td>\n",
       "      <td>152</td>\n",
       "      <td>2</td>\n",
       "      <td>2</td>\n",
       "      <td>0</td>\n",
       "      <td>0</td>\n",
       "      <td>0</td>\n",
       "      <td>1</td>\n",
       "      <td>0</td>\n",
       "      <td>-1</td>\n",
       "      <td>...</td>\n",
       "      <td>0</td>\n",
       "      <td>0</td>\n",
       "      <td>0</td>\n",
       "      <td>0</td>\n",
       "      <td>0</td>\n",
       "      <td>0</td>\n",
       "      <td>0</td>\n",
       "      <td>0</td>\n",
       "      <td>0</td>\n",
       "      <td>0</td>\n",
       "    </tr>\n",
       "    <tr>\n",
       "      <th>2</th>\n",
       "      <td>1</td>\n",
       "      <td>131</td>\n",
       "      <td>2</td>\n",
       "      <td>2</td>\n",
       "      <td>0</td>\n",
       "      <td>0</td>\n",
       "      <td>0</td>\n",
       "      <td>1</td>\n",
       "      <td>0</td>\n",
       "      <td>-1</td>\n",
       "      <td>...</td>\n",
       "      <td>0</td>\n",
       "      <td>0</td>\n",
       "      <td>0</td>\n",
       "      <td>0</td>\n",
       "      <td>0</td>\n",
       "      <td>0</td>\n",
       "      <td>0</td>\n",
       "      <td>0</td>\n",
       "      <td>0</td>\n",
       "      <td>0</td>\n",
       "    </tr>\n",
       "    <tr>\n",
       "      <th>3</th>\n",
       "      <td>1</td>\n",
       "      <td>154</td>\n",
       "      <td>2</td>\n",
       "      <td>2</td>\n",
       "      <td>0</td>\n",
       "      <td>0</td>\n",
       "      <td>0</td>\n",
       "      <td>0</td>\n",
       "      <td>0</td>\n",
       "      <td>0</td>\n",
       "      <td>...</td>\n",
       "      <td>-1</td>\n",
       "      <td>0</td>\n",
       "      <td>0</td>\n",
       "      <td>0</td>\n",
       "      <td>0</td>\n",
       "      <td>0</td>\n",
       "      <td>0</td>\n",
       "      <td>0</td>\n",
       "      <td>0</td>\n",
       "      <td>0</td>\n",
       "    </tr>\n",
       "    <tr>\n",
       "      <th>4</th>\n",
       "      <td>-1</td>\n",
       "      <td>171</td>\n",
       "      <td>2</td>\n",
       "      <td>3</td>\n",
       "      <td>0</td>\n",
       "      <td>0</td>\n",
       "      <td>0</td>\n",
       "      <td>0</td>\n",
       "      <td>0</td>\n",
       "      <td>-1</td>\n",
       "      <td>...</td>\n",
       "      <td>0</td>\n",
       "      <td>0</td>\n",
       "      <td>0</td>\n",
       "      <td>0</td>\n",
       "      <td>0</td>\n",
       "      <td>0</td>\n",
       "      <td>0</td>\n",
       "      <td>0</td>\n",
       "      <td>0</td>\n",
       "      <td>0</td>\n",
       "    </tr>\n",
       "    <tr>\n",
       "      <th>...</th>\n",
       "      <td>...</td>\n",
       "      <td>...</td>\n",
       "      <td>...</td>\n",
       "      <td>...</td>\n",
       "      <td>...</td>\n",
       "      <td>...</td>\n",
       "      <td>...</td>\n",
       "      <td>...</td>\n",
       "      <td>...</td>\n",
       "      <td>...</td>\n",
       "      <td>...</td>\n",
       "      <td>...</td>\n",
       "      <td>...</td>\n",
       "      <td>...</td>\n",
       "      <td>...</td>\n",
       "      <td>...</td>\n",
       "      <td>...</td>\n",
       "      <td>...</td>\n",
       "      <td>...</td>\n",
       "      <td>...</td>\n",
       "      <td>...</td>\n",
       "    </tr>\n",
       "    <tr>\n",
       "      <th>92645</th>\n",
       "      <td>-1</td>\n",
       "      <td>154</td>\n",
       "      <td>2</td>\n",
       "      <td>3</td>\n",
       "      <td>1</td>\n",
       "      <td>0</td>\n",
       "      <td>0</td>\n",
       "      <td>-1</td>\n",
       "      <td>0</td>\n",
       "      <td>0</td>\n",
       "      <td>...</td>\n",
       "      <td>0</td>\n",
       "      <td>0</td>\n",
       "      <td>0</td>\n",
       "      <td>0</td>\n",
       "      <td>0</td>\n",
       "      <td>0</td>\n",
       "      <td>0</td>\n",
       "      <td>0</td>\n",
       "      <td>0</td>\n",
       "      <td>0</td>\n",
       "    </tr>\n",
       "    <tr>\n",
       "      <th>92646</th>\n",
       "      <td>1</td>\n",
       "      <td>154</td>\n",
       "      <td>2</td>\n",
       "      <td>2</td>\n",
       "      <td>0</td>\n",
       "      <td>0</td>\n",
       "      <td>0</td>\n",
       "      <td>0</td>\n",
       "      <td>-1</td>\n",
       "      <td>0</td>\n",
       "      <td>...</td>\n",
       "      <td>1</td>\n",
       "      <td>0</td>\n",
       "      <td>0</td>\n",
       "      <td>0</td>\n",
       "      <td>0</td>\n",
       "      <td>0</td>\n",
       "      <td>0</td>\n",
       "      <td>0</td>\n",
       "      <td>0</td>\n",
       "      <td>0</td>\n",
       "    </tr>\n",
       "    <tr>\n",
       "      <th>92647</th>\n",
       "      <td>1</td>\n",
       "      <td>111</td>\n",
       "      <td>2</td>\n",
       "      <td>3</td>\n",
       "      <td>0</td>\n",
       "      <td>0</td>\n",
       "      <td>0</td>\n",
       "      <td>0</td>\n",
       "      <td>0</td>\n",
       "      <td>0</td>\n",
       "      <td>...</td>\n",
       "      <td>0</td>\n",
       "      <td>0</td>\n",
       "      <td>0</td>\n",
       "      <td>0</td>\n",
       "      <td>0</td>\n",
       "      <td>0</td>\n",
       "      <td>0</td>\n",
       "      <td>0</td>\n",
       "      <td>0</td>\n",
       "      <td>0</td>\n",
       "    </tr>\n",
       "    <tr>\n",
       "      <th>92648</th>\n",
       "      <td>-1</td>\n",
       "      <td>185</td>\n",
       "      <td>2</td>\n",
       "      <td>2</td>\n",
       "      <td>0</td>\n",
       "      <td>0</td>\n",
       "      <td>0</td>\n",
       "      <td>0</td>\n",
       "      <td>0</td>\n",
       "      <td>1</td>\n",
       "      <td>...</td>\n",
       "      <td>0</td>\n",
       "      <td>0</td>\n",
       "      <td>0</td>\n",
       "      <td>0</td>\n",
       "      <td>0</td>\n",
       "      <td>0</td>\n",
       "      <td>0</td>\n",
       "      <td>0</td>\n",
       "      <td>0</td>\n",
       "      <td>0</td>\n",
       "    </tr>\n",
       "    <tr>\n",
       "      <th>92649</th>\n",
       "      <td>-1</td>\n",
       "      <td>204</td>\n",
       "      <td>2</td>\n",
       "      <td>2</td>\n",
       "      <td>0</td>\n",
       "      <td>-1</td>\n",
       "      <td>0</td>\n",
       "      <td>0</td>\n",
       "      <td>1</td>\n",
       "      <td>0</td>\n",
       "      <td>...</td>\n",
       "      <td>0</td>\n",
       "      <td>0</td>\n",
       "      <td>0</td>\n",
       "      <td>0</td>\n",
       "      <td>0</td>\n",
       "      <td>0</td>\n",
       "      <td>0</td>\n",
       "      <td>0</td>\n",
       "      <td>0</td>\n",
       "      <td>0</td>\n",
       "    </tr>\n",
       "  </tbody>\n",
       "</table>\n",
       "<p>92650 rows × 117 columns</p>\n",
       "</div>"
      ],
      "text/plain": [
       "       0    1    2    3    4    5    6    7    8    9    ...  107  108  109  \\\n",
       "0       -1  223    2    2    0    0    0    0    0    0  ...    0    0    0   \n",
       "1        1  152    2    2    0    0    0    1    0   -1  ...    0    0    0   \n",
       "2        1  131    2    2    0    0    0    1    0   -1  ...    0    0    0   \n",
       "3        1  154    2    2    0    0    0    0    0    0  ...   -1    0    0   \n",
       "4       -1  171    2    3    0    0    0    0    0   -1  ...    0    0    0   \n",
       "...    ...  ...  ...  ...  ...  ...  ...  ...  ...  ...  ...  ...  ...  ...   \n",
       "92645   -1  154    2    3    1    0    0   -1    0    0  ...    0    0    0   \n",
       "92646    1  154    2    2    0    0    0    0   -1    0  ...    1    0    0   \n",
       "92647    1  111    2    3    0    0    0    0    0    0  ...    0    0    0   \n",
       "92648   -1  185    2    2    0    0    0    0    0    1  ...    0    0    0   \n",
       "92649   -1  204    2    2    0   -1    0    0    1    0  ...    0    0    0   \n",
       "\n",
       "       110  111  112  113  114  115  116  \n",
       "0        0    0    0    0    0    0    0  \n",
       "1        0    0    0    0    0    0    0  \n",
       "2        0    0    0    0    0    0    0  \n",
       "3        0    0    0    0    0    0    0  \n",
       "4        0    0    0    0    0    0    0  \n",
       "...    ...  ...  ...  ...  ...  ...  ...  \n",
       "92645    0    0    0    0    0    0    0  \n",
       "92646    0    0    0    0    0    0    0  \n",
       "92647    0    0    0    0    0    0    0  \n",
       "92648    0    0    0    0    0    0    0  \n",
       "92649    0    0    0    0    0    0    0  \n",
       "\n",
       "[92650 rows x 117 columns]"
      ]
     },
     "execution_count": 4,
     "metadata": {},
     "output_type": "execute_result"
    }
   ],
   "source": [
    "train_sample"
   ]
  },
  {
   "cell_type": "code",
   "execution_count": 5,
   "metadata": {},
   "outputs": [
    {
     "data": {
      "text/html": [
       "<div>\n",
       "<style scoped>\n",
       "    .dataframe tbody tr th:only-of-type {\n",
       "        vertical-align: middle;\n",
       "    }\n",
       "\n",
       "    .dataframe tbody tr th {\n",
       "        vertical-align: top;\n",
       "    }\n",
       "\n",
       "    .dataframe thead th {\n",
       "        text-align: right;\n",
       "    }\n",
       "</style>\n",
       "<table border=\"1\" class=\"dataframe\">\n",
       "  <thead>\n",
       "    <tr style=\"text-align: right;\">\n",
       "      <th></th>\n",
       "      <th>0</th>\n",
       "      <th>1</th>\n",
       "      <th>2</th>\n",
       "      <th>3</th>\n",
       "      <th>4</th>\n",
       "      <th>5</th>\n",
       "      <th>6</th>\n",
       "      <th>7</th>\n",
       "      <th>8</th>\n",
       "      <th>9</th>\n",
       "      <th>...</th>\n",
       "      <th>107</th>\n",
       "      <th>108</th>\n",
       "      <th>109</th>\n",
       "      <th>110</th>\n",
       "      <th>111</th>\n",
       "      <th>112</th>\n",
       "      <th>113</th>\n",
       "      <th>114</th>\n",
       "      <th>115</th>\n",
       "      <th>116</th>\n",
       "    </tr>\n",
       "  </thead>\n",
       "  <tbody>\n",
       "    <tr>\n",
       "      <th>0</th>\n",
       "      <td>-1</td>\n",
       "      <td>223</td>\n",
       "      <td>8</td>\n",
       "      <td>2</td>\n",
       "      <td>0</td>\n",
       "      <td>-1</td>\n",
       "      <td>0</td>\n",
       "      <td>0</td>\n",
       "      <td>0</td>\n",
       "      <td>0</td>\n",
       "      <td>...</td>\n",
       "      <td>-1</td>\n",
       "      <td>0</td>\n",
       "      <td>0</td>\n",
       "      <td>0</td>\n",
       "      <td>0</td>\n",
       "      <td>0</td>\n",
       "      <td>0</td>\n",
       "      <td>0</td>\n",
       "      <td>0</td>\n",
       "      <td>0</td>\n",
       "    </tr>\n",
       "    <tr>\n",
       "      <th>1</th>\n",
       "      <td>1</td>\n",
       "      <td>227</td>\n",
       "      <td>8</td>\n",
       "      <td>2</td>\n",
       "      <td>0</td>\n",
       "      <td>0</td>\n",
       "      <td>0</td>\n",
       "      <td>0</td>\n",
       "      <td>0</td>\n",
       "      <td>0</td>\n",
       "      <td>...</td>\n",
       "      <td>-1</td>\n",
       "      <td>0</td>\n",
       "      <td>0</td>\n",
       "      <td>0</td>\n",
       "      <td>0</td>\n",
       "      <td>0</td>\n",
       "      <td>0</td>\n",
       "      <td>0</td>\n",
       "      <td>0</td>\n",
       "      <td>0</td>\n",
       "    </tr>\n",
       "    <tr>\n",
       "      <th>2</th>\n",
       "      <td>-1</td>\n",
       "      <td>136</td>\n",
       "      <td>2</td>\n",
       "      <td>2</td>\n",
       "      <td>1</td>\n",
       "      <td>0</td>\n",
       "      <td>0</td>\n",
       "      <td>0</td>\n",
       "      <td>-1</td>\n",
       "      <td>0</td>\n",
       "      <td>...</td>\n",
       "      <td>0</td>\n",
       "      <td>0</td>\n",
       "      <td>0</td>\n",
       "      <td>0</td>\n",
       "      <td>0</td>\n",
       "      <td>0</td>\n",
       "      <td>0</td>\n",
       "      <td>0</td>\n",
       "      <td>0</td>\n",
       "      <td>0</td>\n",
       "    </tr>\n",
       "    <tr>\n",
       "      <th>3</th>\n",
       "      <td>1</td>\n",
       "      <td>227</td>\n",
       "      <td>2</td>\n",
       "      <td>2</td>\n",
       "      <td>-1</td>\n",
       "      <td>0</td>\n",
       "      <td>0</td>\n",
       "      <td>0</td>\n",
       "      <td>0</td>\n",
       "      <td>0</td>\n",
       "      <td>...</td>\n",
       "      <td>0</td>\n",
       "      <td>0</td>\n",
       "      <td>0</td>\n",
       "      <td>0</td>\n",
       "      <td>0</td>\n",
       "      <td>0</td>\n",
       "      <td>0</td>\n",
       "      <td>0</td>\n",
       "      <td>0</td>\n",
       "      <td>0</td>\n",
       "    </tr>\n",
       "    <tr>\n",
       "      <th>4</th>\n",
       "      <td>1</td>\n",
       "      <td>184</td>\n",
       "      <td>2</td>\n",
       "      <td>3</td>\n",
       "      <td>0</td>\n",
       "      <td>0</td>\n",
       "      <td>0</td>\n",
       "      <td>-1</td>\n",
       "      <td>0</td>\n",
       "      <td>0</td>\n",
       "      <td>...</td>\n",
       "      <td>0</td>\n",
       "      <td>0</td>\n",
       "      <td>0</td>\n",
       "      <td>0</td>\n",
       "      <td>0</td>\n",
       "      <td>0</td>\n",
       "      <td>0</td>\n",
       "      <td>0</td>\n",
       "      <td>0</td>\n",
       "      <td>0</td>\n",
       "    </tr>\n",
       "    <tr>\n",
       "      <th>...</th>\n",
       "      <td>...</td>\n",
       "      <td>...</td>\n",
       "      <td>...</td>\n",
       "      <td>...</td>\n",
       "      <td>...</td>\n",
       "      <td>...</td>\n",
       "      <td>...</td>\n",
       "      <td>...</td>\n",
       "      <td>...</td>\n",
       "      <td>...</td>\n",
       "      <td>...</td>\n",
       "      <td>...</td>\n",
       "      <td>...</td>\n",
       "      <td>...</td>\n",
       "      <td>...</td>\n",
       "      <td>...</td>\n",
       "      <td>...</td>\n",
       "      <td>...</td>\n",
       "      <td>...</td>\n",
       "      <td>...</td>\n",
       "      <td>...</td>\n",
       "    </tr>\n",
       "    <tr>\n",
       "      <th>10289</th>\n",
       "      <td>1</td>\n",
       "      <td>121</td>\n",
       "      <td>2</td>\n",
       "      <td>2</td>\n",
       "      <td>0</td>\n",
       "      <td>0</td>\n",
       "      <td>0</td>\n",
       "      <td>0</td>\n",
       "      <td>0</td>\n",
       "      <td>0</td>\n",
       "      <td>...</td>\n",
       "      <td>0</td>\n",
       "      <td>-1</td>\n",
       "      <td>0</td>\n",
       "      <td>0</td>\n",
       "      <td>0</td>\n",
       "      <td>0</td>\n",
       "      <td>0</td>\n",
       "      <td>0</td>\n",
       "      <td>0</td>\n",
       "      <td>0</td>\n",
       "    </tr>\n",
       "    <tr>\n",
       "      <th>10290</th>\n",
       "      <td>1</td>\n",
       "      <td>154</td>\n",
       "      <td>9</td>\n",
       "      <td>2</td>\n",
       "      <td>0</td>\n",
       "      <td>0</td>\n",
       "      <td>0</td>\n",
       "      <td>0</td>\n",
       "      <td>0</td>\n",
       "      <td>0</td>\n",
       "      <td>...</td>\n",
       "      <td>0</td>\n",
       "      <td>0</td>\n",
       "      <td>0</td>\n",
       "      <td>0</td>\n",
       "      <td>0</td>\n",
       "      <td>0</td>\n",
       "      <td>0</td>\n",
       "      <td>0</td>\n",
       "      <td>0</td>\n",
       "      <td>0</td>\n",
       "    </tr>\n",
       "    <tr>\n",
       "      <th>10291</th>\n",
       "      <td>1</td>\n",
       "      <td>122</td>\n",
       "      <td>9</td>\n",
       "      <td>2</td>\n",
       "      <td>0</td>\n",
       "      <td>0</td>\n",
       "      <td>0</td>\n",
       "      <td>0</td>\n",
       "      <td>1</td>\n",
       "      <td>0</td>\n",
       "      <td>...</td>\n",
       "      <td>0</td>\n",
       "      <td>0</td>\n",
       "      <td>0</td>\n",
       "      <td>0</td>\n",
       "      <td>0</td>\n",
       "      <td>0</td>\n",
       "      <td>0</td>\n",
       "      <td>0</td>\n",
       "      <td>0</td>\n",
       "      <td>0</td>\n",
       "    </tr>\n",
       "    <tr>\n",
       "      <th>10292</th>\n",
       "      <td>1</td>\n",
       "      <td>152</td>\n",
       "      <td>2</td>\n",
       "      <td>3</td>\n",
       "      <td>0</td>\n",
       "      <td>0</td>\n",
       "      <td>0</td>\n",
       "      <td>0</td>\n",
       "      <td>0</td>\n",
       "      <td>0</td>\n",
       "      <td>...</td>\n",
       "      <td>0</td>\n",
       "      <td>0</td>\n",
       "      <td>0</td>\n",
       "      <td>0</td>\n",
       "      <td>0</td>\n",
       "      <td>0</td>\n",
       "      <td>0</td>\n",
       "      <td>0</td>\n",
       "      <td>0</td>\n",
       "      <td>0</td>\n",
       "    </tr>\n",
       "    <tr>\n",
       "      <th>10293</th>\n",
       "      <td>-1</td>\n",
       "      <td>184</td>\n",
       "      <td>2</td>\n",
       "      <td>3</td>\n",
       "      <td>0</td>\n",
       "      <td>0</td>\n",
       "      <td>0</td>\n",
       "      <td>0</td>\n",
       "      <td>0</td>\n",
       "      <td>-1</td>\n",
       "      <td>...</td>\n",
       "      <td>0</td>\n",
       "      <td>0</td>\n",
       "      <td>0</td>\n",
       "      <td>0</td>\n",
       "      <td>0</td>\n",
       "      <td>0</td>\n",
       "      <td>0</td>\n",
       "      <td>0</td>\n",
       "      <td>0</td>\n",
       "      <td>0</td>\n",
       "    </tr>\n",
       "  </tbody>\n",
       "</table>\n",
       "<p>10294 rows × 117 columns</p>\n",
       "</div>"
      ],
      "text/plain": [
       "       0    1    2    3    4    5    6    7    8    9    ...  107  108  109  \\\n",
       "0       -1  223    8    2    0   -1    0    0    0    0  ...   -1    0    0   \n",
       "1        1  227    8    2    0    0    0    0    0    0  ...   -1    0    0   \n",
       "2       -1  136    2    2    1    0    0    0   -1    0  ...    0    0    0   \n",
       "3        1  227    2    2   -1    0    0    0    0    0  ...    0    0    0   \n",
       "4        1  184    2    3    0    0    0   -1    0    0  ...    0    0    0   \n",
       "...    ...  ...  ...  ...  ...  ...  ...  ...  ...  ...  ...  ...  ...  ...   \n",
       "10289    1  121    2    2    0    0    0    0    0    0  ...    0   -1    0   \n",
       "10290    1  154    9    2    0    0    0    0    0    0  ...    0    0    0   \n",
       "10291    1  122    9    2    0    0    0    0    1    0  ...    0    0    0   \n",
       "10292    1  152    2    3    0    0    0    0    0    0  ...    0    0    0   \n",
       "10293   -1  184    2    3    0    0    0    0    0   -1  ...    0    0    0   \n",
       "\n",
       "       110  111  112  113  114  115  116  \n",
       "0        0    0    0    0    0    0    0  \n",
       "1        0    0    0    0    0    0    0  \n",
       "2        0    0    0    0    0    0    0  \n",
       "3        0    0    0    0    0    0    0  \n",
       "4        0    0    0    0    0    0    0  \n",
       "...    ...  ...  ...  ...  ...  ...  ...  \n",
       "10289    0    0    0    0    0    0    0  \n",
       "10290    0    0    0    0    0    0    0  \n",
       "10291    0    0    0    0    0    0    0  \n",
       "10292    0    0    0    0    0    0    0  \n",
       "10293    0    0    0    0    0    0    0  \n",
       "\n",
       "[10294 rows x 117 columns]"
      ]
     },
     "execution_count": 5,
     "metadata": {},
     "output_type": "execute_result"
    }
   ],
   "source": [
    "test_sample"
   ]
  },
  {
   "cell_type": "markdown",
   "metadata": {},
   "source": [
    "Extract the hero names and match with the dataset\n",
    "\n",
    "\n",
    "The mapping of hero names to IDs can be found <a href =\n",
    "\"https://github.com/kronusme/dota2-api/blob/master/data/heroes.json\">here</a>."
   ]
  },
  {
   "cell_type": "code",
   "execution_count": 6,
   "metadata": {},
   "outputs": [
    {
     "name": "stdout",
     "output_type": "stream",
     "text": [
      "113\n",
      "['Anti-Mage', 'Axe', 'Bane', 'Bloodseeker', 'Crystal Maiden', 'Drow Ranger', 'Earthshaker', 'Juggernaut', 'Mirana', 'Morphling', 'Shadow Fiend', 'Phantom Lancer', 'Puck', 'Pudge', 'Razor', 'Sand King', 'Storm Spirit', 'Sven', 'Tiny', 'Vengeful Spirit', 'Windranger', 'Zeus', 'Kunkka', 'unknown23', 'Lina', 'Lion', 'Shadow Shaman', 'Slardar', 'Tidehunter', 'Witch Doctor', 'Lich', 'Riki', 'Enigma', 'Tinker', 'Sniper', 'Necrophos', 'Warlock', 'Beastmaster', 'Queen of Pain', 'Venomancer', 'Faceless Void', 'Skeleton King', 'Death Prophet', 'Phantom Assassin', 'Pugna', 'Templar Assassin', 'Viper', 'Luna', 'Dragon Knight', 'Dazzle', 'Clockwerk', 'Leshrac', \"Nature's Prophet\", 'Lifestealer', 'Dark Seer', 'Clinkz', 'Omniknight', 'Enchantress', 'Huskar', 'Night Stalker', 'Broodmother', 'Bounty Hunter', 'Weaver', 'Jakiro', 'Batrider', 'Chen', 'Spectre', 'Ancient Apparition', 'Doom', 'Ursa', 'Spirit Breaker', 'Gyrocopter', 'Alchemist', 'Invoker', 'Silencer', 'Outworld Devourer', 'Lycanthrope', 'Brewmaster', 'Shadow Demon', 'Lone Druid', 'Chaos Knight', 'Meepo', 'Treant Protector', 'Ogre Magi', 'Undying', 'Rubick', 'Disruptor', 'Nyx Assassin', 'Naga Siren', 'Keeper of the Light', 'Wisp', 'Visage', 'Slark', 'Medusa', 'Troll Warlord', 'Centaur Warrunner', 'Magnus', 'Timbersaw', 'Bristleback', 'Tusk', 'Skywrath Mage', 'Abaddon', 'Elder Titan', 'Legion Commander', 'Techies', 'Ember Spirit', 'Earth Spirit', 'Abyssal Underlord', 'Terrorblade', 'Phoenix', 'Oracle', 'Winter Wyvern', 'Arc Warden']\n"
     ]
    }
   ],
   "source": [
    "import json\n",
    "map_file = open(\"heroes.json\")\n",
    "with open(\"heroes.json\") as f:\n",
    "    data = json.load(f)\n",
    "    \n",
    "hero_mapping = json.load(map_file)\n",
    "hero_names = [\"unknown\"+str(i) for i in range(113)]\n",
    "for i in hero_mapping[\"heroes\"]:\n",
    "    hero_names[i[\"id\"]-1] = i[\"localized_name\"]\n",
    "\n",
    "print(len(hero_names))\n",
    "print(hero_names)"
   ]
  },
  {
   "cell_type": "code",
   "execution_count": 7,
   "metadata": {
    "id": "pbenljp5ucsW"
   },
   "outputs": [],
   "source": [
    "col_names = [\"winner\", \"cluster_ID\", \"game_mode\", \"game_type\"]+hero_names\n",
    "train_data = pd.read_csv(\"dota2Train.csv\",names = col_names)\n",
    "test_data = pd.read_csv(\"dota2Test.csv\",names = col_names)\n",
    "#all_attrs_data = pd.concat([train_data,test_data])"
   ]
  },
  {
   "cell_type": "code",
   "execution_count": 8,
   "metadata": {},
   "outputs": [
    {
     "data": {
      "text/html": [
       "<div>\n",
       "<style scoped>\n",
       "    .dataframe tbody tr th:only-of-type {\n",
       "        vertical-align: middle;\n",
       "    }\n",
       "\n",
       "    .dataframe tbody tr th {\n",
       "        vertical-align: top;\n",
       "    }\n",
       "\n",
       "    .dataframe thead th {\n",
       "        text-align: right;\n",
       "    }\n",
       "</style>\n",
       "<table border=\"1\" class=\"dataframe\">\n",
       "  <thead>\n",
       "    <tr style=\"text-align: right;\">\n",
       "      <th></th>\n",
       "      <th>winner</th>\n",
       "      <th>cluster_ID</th>\n",
       "      <th>game_mode</th>\n",
       "      <th>game_type</th>\n",
       "      <th>Anti-Mage</th>\n",
       "      <th>Axe</th>\n",
       "      <th>Bane</th>\n",
       "      <th>Bloodseeker</th>\n",
       "      <th>Crystal Maiden</th>\n",
       "      <th>Drow Ranger</th>\n",
       "      <th>...</th>\n",
       "      <th>Legion Commander</th>\n",
       "      <th>Techies</th>\n",
       "      <th>Ember Spirit</th>\n",
       "      <th>Earth Spirit</th>\n",
       "      <th>Abyssal Underlord</th>\n",
       "      <th>Terrorblade</th>\n",
       "      <th>Phoenix</th>\n",
       "      <th>Oracle</th>\n",
       "      <th>Winter Wyvern</th>\n",
       "      <th>Arc Warden</th>\n",
       "    </tr>\n",
       "  </thead>\n",
       "  <tbody>\n",
       "    <tr>\n",
       "      <th>0</th>\n",
       "      <td>-1</td>\n",
       "      <td>223</td>\n",
       "      <td>2</td>\n",
       "      <td>2</td>\n",
       "      <td>0</td>\n",
       "      <td>0</td>\n",
       "      <td>0</td>\n",
       "      <td>0</td>\n",
       "      <td>0</td>\n",
       "      <td>0</td>\n",
       "      <td>...</td>\n",
       "      <td>0</td>\n",
       "      <td>0</td>\n",
       "      <td>0</td>\n",
       "      <td>0</td>\n",
       "      <td>0</td>\n",
       "      <td>0</td>\n",
       "      <td>0</td>\n",
       "      <td>0</td>\n",
       "      <td>0</td>\n",
       "      <td>0</td>\n",
       "    </tr>\n",
       "    <tr>\n",
       "      <th>1</th>\n",
       "      <td>1</td>\n",
       "      <td>152</td>\n",
       "      <td>2</td>\n",
       "      <td>2</td>\n",
       "      <td>0</td>\n",
       "      <td>0</td>\n",
       "      <td>0</td>\n",
       "      <td>1</td>\n",
       "      <td>0</td>\n",
       "      <td>-1</td>\n",
       "      <td>...</td>\n",
       "      <td>0</td>\n",
       "      <td>0</td>\n",
       "      <td>0</td>\n",
       "      <td>0</td>\n",
       "      <td>0</td>\n",
       "      <td>0</td>\n",
       "      <td>0</td>\n",
       "      <td>0</td>\n",
       "      <td>0</td>\n",
       "      <td>0</td>\n",
       "    </tr>\n",
       "    <tr>\n",
       "      <th>2</th>\n",
       "      <td>1</td>\n",
       "      <td>131</td>\n",
       "      <td>2</td>\n",
       "      <td>2</td>\n",
       "      <td>0</td>\n",
       "      <td>0</td>\n",
       "      <td>0</td>\n",
       "      <td>1</td>\n",
       "      <td>0</td>\n",
       "      <td>-1</td>\n",
       "      <td>...</td>\n",
       "      <td>0</td>\n",
       "      <td>0</td>\n",
       "      <td>0</td>\n",
       "      <td>0</td>\n",
       "      <td>0</td>\n",
       "      <td>0</td>\n",
       "      <td>0</td>\n",
       "      <td>0</td>\n",
       "      <td>0</td>\n",
       "      <td>0</td>\n",
       "    </tr>\n",
       "    <tr>\n",
       "      <th>3</th>\n",
       "      <td>1</td>\n",
       "      <td>154</td>\n",
       "      <td>2</td>\n",
       "      <td>2</td>\n",
       "      <td>0</td>\n",
       "      <td>0</td>\n",
       "      <td>0</td>\n",
       "      <td>0</td>\n",
       "      <td>0</td>\n",
       "      <td>0</td>\n",
       "      <td>...</td>\n",
       "      <td>-1</td>\n",
       "      <td>0</td>\n",
       "      <td>0</td>\n",
       "      <td>0</td>\n",
       "      <td>0</td>\n",
       "      <td>0</td>\n",
       "      <td>0</td>\n",
       "      <td>0</td>\n",
       "      <td>0</td>\n",
       "      <td>0</td>\n",
       "    </tr>\n",
       "    <tr>\n",
       "      <th>4</th>\n",
       "      <td>-1</td>\n",
       "      <td>171</td>\n",
       "      <td>2</td>\n",
       "      <td>3</td>\n",
       "      <td>0</td>\n",
       "      <td>0</td>\n",
       "      <td>0</td>\n",
       "      <td>0</td>\n",
       "      <td>0</td>\n",
       "      <td>-1</td>\n",
       "      <td>...</td>\n",
       "      <td>0</td>\n",
       "      <td>0</td>\n",
       "      <td>0</td>\n",
       "      <td>0</td>\n",
       "      <td>0</td>\n",
       "      <td>0</td>\n",
       "      <td>0</td>\n",
       "      <td>0</td>\n",
       "      <td>0</td>\n",
       "      <td>0</td>\n",
       "    </tr>\n",
       "    <tr>\n",
       "      <th>...</th>\n",
       "      <td>...</td>\n",
       "      <td>...</td>\n",
       "      <td>...</td>\n",
       "      <td>...</td>\n",
       "      <td>...</td>\n",
       "      <td>...</td>\n",
       "      <td>...</td>\n",
       "      <td>...</td>\n",
       "      <td>...</td>\n",
       "      <td>...</td>\n",
       "      <td>...</td>\n",
       "      <td>...</td>\n",
       "      <td>...</td>\n",
       "      <td>...</td>\n",
       "      <td>...</td>\n",
       "      <td>...</td>\n",
       "      <td>...</td>\n",
       "      <td>...</td>\n",
       "      <td>...</td>\n",
       "      <td>...</td>\n",
       "      <td>...</td>\n",
       "    </tr>\n",
       "    <tr>\n",
       "      <th>92645</th>\n",
       "      <td>-1</td>\n",
       "      <td>154</td>\n",
       "      <td>2</td>\n",
       "      <td>3</td>\n",
       "      <td>1</td>\n",
       "      <td>0</td>\n",
       "      <td>0</td>\n",
       "      <td>-1</td>\n",
       "      <td>0</td>\n",
       "      <td>0</td>\n",
       "      <td>...</td>\n",
       "      <td>0</td>\n",
       "      <td>0</td>\n",
       "      <td>0</td>\n",
       "      <td>0</td>\n",
       "      <td>0</td>\n",
       "      <td>0</td>\n",
       "      <td>0</td>\n",
       "      <td>0</td>\n",
       "      <td>0</td>\n",
       "      <td>0</td>\n",
       "    </tr>\n",
       "    <tr>\n",
       "      <th>92646</th>\n",
       "      <td>1</td>\n",
       "      <td>154</td>\n",
       "      <td>2</td>\n",
       "      <td>2</td>\n",
       "      <td>0</td>\n",
       "      <td>0</td>\n",
       "      <td>0</td>\n",
       "      <td>0</td>\n",
       "      <td>-1</td>\n",
       "      <td>0</td>\n",
       "      <td>...</td>\n",
       "      <td>1</td>\n",
       "      <td>0</td>\n",
       "      <td>0</td>\n",
       "      <td>0</td>\n",
       "      <td>0</td>\n",
       "      <td>0</td>\n",
       "      <td>0</td>\n",
       "      <td>0</td>\n",
       "      <td>0</td>\n",
       "      <td>0</td>\n",
       "    </tr>\n",
       "    <tr>\n",
       "      <th>92647</th>\n",
       "      <td>1</td>\n",
       "      <td>111</td>\n",
       "      <td>2</td>\n",
       "      <td>3</td>\n",
       "      <td>0</td>\n",
       "      <td>0</td>\n",
       "      <td>0</td>\n",
       "      <td>0</td>\n",
       "      <td>0</td>\n",
       "      <td>0</td>\n",
       "      <td>...</td>\n",
       "      <td>0</td>\n",
       "      <td>0</td>\n",
       "      <td>0</td>\n",
       "      <td>0</td>\n",
       "      <td>0</td>\n",
       "      <td>0</td>\n",
       "      <td>0</td>\n",
       "      <td>0</td>\n",
       "      <td>0</td>\n",
       "      <td>0</td>\n",
       "    </tr>\n",
       "    <tr>\n",
       "      <th>92648</th>\n",
       "      <td>-1</td>\n",
       "      <td>185</td>\n",
       "      <td>2</td>\n",
       "      <td>2</td>\n",
       "      <td>0</td>\n",
       "      <td>0</td>\n",
       "      <td>0</td>\n",
       "      <td>0</td>\n",
       "      <td>0</td>\n",
       "      <td>1</td>\n",
       "      <td>...</td>\n",
       "      <td>0</td>\n",
       "      <td>0</td>\n",
       "      <td>0</td>\n",
       "      <td>0</td>\n",
       "      <td>0</td>\n",
       "      <td>0</td>\n",
       "      <td>0</td>\n",
       "      <td>0</td>\n",
       "      <td>0</td>\n",
       "      <td>0</td>\n",
       "    </tr>\n",
       "    <tr>\n",
       "      <th>92649</th>\n",
       "      <td>-1</td>\n",
       "      <td>204</td>\n",
       "      <td>2</td>\n",
       "      <td>2</td>\n",
       "      <td>0</td>\n",
       "      <td>-1</td>\n",
       "      <td>0</td>\n",
       "      <td>0</td>\n",
       "      <td>1</td>\n",
       "      <td>0</td>\n",
       "      <td>...</td>\n",
       "      <td>0</td>\n",
       "      <td>0</td>\n",
       "      <td>0</td>\n",
       "      <td>0</td>\n",
       "      <td>0</td>\n",
       "      <td>0</td>\n",
       "      <td>0</td>\n",
       "      <td>0</td>\n",
       "      <td>0</td>\n",
       "      <td>0</td>\n",
       "    </tr>\n",
       "  </tbody>\n",
       "</table>\n",
       "<p>92650 rows × 117 columns</p>\n",
       "</div>"
      ],
      "text/plain": [
       "       winner  cluster_ID  game_mode  game_type  Anti-Mage  Axe  Bane  \\\n",
       "0          -1         223          2          2          0    0     0   \n",
       "1           1         152          2          2          0    0     0   \n",
       "2           1         131          2          2          0    0     0   \n",
       "3           1         154          2          2          0    0     0   \n",
       "4          -1         171          2          3          0    0     0   \n",
       "...       ...         ...        ...        ...        ...  ...   ...   \n",
       "92645      -1         154          2          3          1    0     0   \n",
       "92646       1         154          2          2          0    0     0   \n",
       "92647       1         111          2          3          0    0     0   \n",
       "92648      -1         185          2          2          0    0     0   \n",
       "92649      -1         204          2          2          0   -1     0   \n",
       "\n",
       "       Bloodseeker  Crystal Maiden  Drow Ranger  ...  Legion Commander  \\\n",
       "0                0               0            0  ...                 0   \n",
       "1                1               0           -1  ...                 0   \n",
       "2                1               0           -1  ...                 0   \n",
       "3                0               0            0  ...                -1   \n",
       "4                0               0           -1  ...                 0   \n",
       "...            ...             ...          ...  ...               ...   \n",
       "92645           -1               0            0  ...                 0   \n",
       "92646            0              -1            0  ...                 1   \n",
       "92647            0               0            0  ...                 0   \n",
       "92648            0               0            1  ...                 0   \n",
       "92649            0               1            0  ...                 0   \n",
       "\n",
       "       Techies  Ember Spirit  Earth Spirit  Abyssal Underlord  Terrorblade  \\\n",
       "0            0             0             0                  0            0   \n",
       "1            0             0             0                  0            0   \n",
       "2            0             0             0                  0            0   \n",
       "3            0             0             0                  0            0   \n",
       "4            0             0             0                  0            0   \n",
       "...        ...           ...           ...                ...          ...   \n",
       "92645        0             0             0                  0            0   \n",
       "92646        0             0             0                  0            0   \n",
       "92647        0             0             0                  0            0   \n",
       "92648        0             0             0                  0            0   \n",
       "92649        0             0             0                  0            0   \n",
       "\n",
       "       Phoenix  Oracle  Winter Wyvern  Arc Warden  \n",
       "0            0       0              0           0  \n",
       "1            0       0              0           0  \n",
       "2            0       0              0           0  \n",
       "3            0       0              0           0  \n",
       "4            0       0              0           0  \n",
       "...        ...     ...            ...         ...  \n",
       "92645        0       0              0           0  \n",
       "92646        0       0              0           0  \n",
       "92647        0       0              0           0  \n",
       "92648        0       0              0           0  \n",
       "92649        0       0              0           0  \n",
       "\n",
       "[92650 rows x 117 columns]"
      ]
     },
     "execution_count": 8,
     "metadata": {},
     "output_type": "execute_result"
    }
   ],
   "source": [
    "train_data"
   ]
  },
  {
   "cell_type": "code",
   "execution_count": 9,
   "metadata": {},
   "outputs": [
    {
     "data": {
      "text/html": [
       "<div>\n",
       "<style scoped>\n",
       "    .dataframe tbody tr th:only-of-type {\n",
       "        vertical-align: middle;\n",
       "    }\n",
       "\n",
       "    .dataframe tbody tr th {\n",
       "        vertical-align: top;\n",
       "    }\n",
       "\n",
       "    .dataframe thead th {\n",
       "        text-align: right;\n",
       "    }\n",
       "</style>\n",
       "<table border=\"1\" class=\"dataframe\">\n",
       "  <thead>\n",
       "    <tr style=\"text-align: right;\">\n",
       "      <th></th>\n",
       "      <th>winner</th>\n",
       "      <th>cluster_ID</th>\n",
       "      <th>game_mode</th>\n",
       "      <th>game_type</th>\n",
       "      <th>Anti-Mage</th>\n",
       "      <th>Axe</th>\n",
       "      <th>Bane</th>\n",
       "      <th>Bloodseeker</th>\n",
       "      <th>Crystal Maiden</th>\n",
       "      <th>Drow Ranger</th>\n",
       "      <th>...</th>\n",
       "      <th>Legion Commander</th>\n",
       "      <th>Techies</th>\n",
       "      <th>Ember Spirit</th>\n",
       "      <th>Earth Spirit</th>\n",
       "      <th>Abyssal Underlord</th>\n",
       "      <th>Terrorblade</th>\n",
       "      <th>Phoenix</th>\n",
       "      <th>Oracle</th>\n",
       "      <th>Winter Wyvern</th>\n",
       "      <th>Arc Warden</th>\n",
       "    </tr>\n",
       "  </thead>\n",
       "  <tbody>\n",
       "    <tr>\n",
       "      <th>0</th>\n",
       "      <td>-1</td>\n",
       "      <td>223</td>\n",
       "      <td>8</td>\n",
       "      <td>2</td>\n",
       "      <td>0</td>\n",
       "      <td>-1</td>\n",
       "      <td>0</td>\n",
       "      <td>0</td>\n",
       "      <td>0</td>\n",
       "      <td>0</td>\n",
       "      <td>...</td>\n",
       "      <td>-1</td>\n",
       "      <td>0</td>\n",
       "      <td>0</td>\n",
       "      <td>0</td>\n",
       "      <td>0</td>\n",
       "      <td>0</td>\n",
       "      <td>0</td>\n",
       "      <td>0</td>\n",
       "      <td>0</td>\n",
       "      <td>0</td>\n",
       "    </tr>\n",
       "    <tr>\n",
       "      <th>1</th>\n",
       "      <td>1</td>\n",
       "      <td>227</td>\n",
       "      <td>8</td>\n",
       "      <td>2</td>\n",
       "      <td>0</td>\n",
       "      <td>0</td>\n",
       "      <td>0</td>\n",
       "      <td>0</td>\n",
       "      <td>0</td>\n",
       "      <td>0</td>\n",
       "      <td>...</td>\n",
       "      <td>-1</td>\n",
       "      <td>0</td>\n",
       "      <td>0</td>\n",
       "      <td>0</td>\n",
       "      <td>0</td>\n",
       "      <td>0</td>\n",
       "      <td>0</td>\n",
       "      <td>0</td>\n",
       "      <td>0</td>\n",
       "      <td>0</td>\n",
       "    </tr>\n",
       "    <tr>\n",
       "      <th>2</th>\n",
       "      <td>-1</td>\n",
       "      <td>136</td>\n",
       "      <td>2</td>\n",
       "      <td>2</td>\n",
       "      <td>1</td>\n",
       "      <td>0</td>\n",
       "      <td>0</td>\n",
       "      <td>0</td>\n",
       "      <td>-1</td>\n",
       "      <td>0</td>\n",
       "      <td>...</td>\n",
       "      <td>0</td>\n",
       "      <td>0</td>\n",
       "      <td>0</td>\n",
       "      <td>0</td>\n",
       "      <td>0</td>\n",
       "      <td>0</td>\n",
       "      <td>0</td>\n",
       "      <td>0</td>\n",
       "      <td>0</td>\n",
       "      <td>0</td>\n",
       "    </tr>\n",
       "    <tr>\n",
       "      <th>3</th>\n",
       "      <td>1</td>\n",
       "      <td>227</td>\n",
       "      <td>2</td>\n",
       "      <td>2</td>\n",
       "      <td>-1</td>\n",
       "      <td>0</td>\n",
       "      <td>0</td>\n",
       "      <td>0</td>\n",
       "      <td>0</td>\n",
       "      <td>0</td>\n",
       "      <td>...</td>\n",
       "      <td>0</td>\n",
       "      <td>0</td>\n",
       "      <td>0</td>\n",
       "      <td>0</td>\n",
       "      <td>0</td>\n",
       "      <td>0</td>\n",
       "      <td>0</td>\n",
       "      <td>0</td>\n",
       "      <td>0</td>\n",
       "      <td>0</td>\n",
       "    </tr>\n",
       "    <tr>\n",
       "      <th>4</th>\n",
       "      <td>1</td>\n",
       "      <td>184</td>\n",
       "      <td>2</td>\n",
       "      <td>3</td>\n",
       "      <td>0</td>\n",
       "      <td>0</td>\n",
       "      <td>0</td>\n",
       "      <td>-1</td>\n",
       "      <td>0</td>\n",
       "      <td>0</td>\n",
       "      <td>...</td>\n",
       "      <td>0</td>\n",
       "      <td>0</td>\n",
       "      <td>0</td>\n",
       "      <td>0</td>\n",
       "      <td>0</td>\n",
       "      <td>0</td>\n",
       "      <td>0</td>\n",
       "      <td>0</td>\n",
       "      <td>0</td>\n",
       "      <td>0</td>\n",
       "    </tr>\n",
       "    <tr>\n",
       "      <th>...</th>\n",
       "      <td>...</td>\n",
       "      <td>...</td>\n",
       "      <td>...</td>\n",
       "      <td>...</td>\n",
       "      <td>...</td>\n",
       "      <td>...</td>\n",
       "      <td>...</td>\n",
       "      <td>...</td>\n",
       "      <td>...</td>\n",
       "      <td>...</td>\n",
       "      <td>...</td>\n",
       "      <td>...</td>\n",
       "      <td>...</td>\n",
       "      <td>...</td>\n",
       "      <td>...</td>\n",
       "      <td>...</td>\n",
       "      <td>...</td>\n",
       "      <td>...</td>\n",
       "      <td>...</td>\n",
       "      <td>...</td>\n",
       "      <td>...</td>\n",
       "    </tr>\n",
       "    <tr>\n",
       "      <th>10289</th>\n",
       "      <td>1</td>\n",
       "      <td>121</td>\n",
       "      <td>2</td>\n",
       "      <td>2</td>\n",
       "      <td>0</td>\n",
       "      <td>0</td>\n",
       "      <td>0</td>\n",
       "      <td>0</td>\n",
       "      <td>0</td>\n",
       "      <td>0</td>\n",
       "      <td>...</td>\n",
       "      <td>0</td>\n",
       "      <td>-1</td>\n",
       "      <td>0</td>\n",
       "      <td>0</td>\n",
       "      <td>0</td>\n",
       "      <td>0</td>\n",
       "      <td>0</td>\n",
       "      <td>0</td>\n",
       "      <td>0</td>\n",
       "      <td>0</td>\n",
       "    </tr>\n",
       "    <tr>\n",
       "      <th>10290</th>\n",
       "      <td>1</td>\n",
       "      <td>154</td>\n",
       "      <td>9</td>\n",
       "      <td>2</td>\n",
       "      <td>0</td>\n",
       "      <td>0</td>\n",
       "      <td>0</td>\n",
       "      <td>0</td>\n",
       "      <td>0</td>\n",
       "      <td>0</td>\n",
       "      <td>...</td>\n",
       "      <td>0</td>\n",
       "      <td>0</td>\n",
       "      <td>0</td>\n",
       "      <td>0</td>\n",
       "      <td>0</td>\n",
       "      <td>0</td>\n",
       "      <td>0</td>\n",
       "      <td>0</td>\n",
       "      <td>0</td>\n",
       "      <td>0</td>\n",
       "    </tr>\n",
       "    <tr>\n",
       "      <th>10291</th>\n",
       "      <td>1</td>\n",
       "      <td>122</td>\n",
       "      <td>9</td>\n",
       "      <td>2</td>\n",
       "      <td>0</td>\n",
       "      <td>0</td>\n",
       "      <td>0</td>\n",
       "      <td>0</td>\n",
       "      <td>1</td>\n",
       "      <td>0</td>\n",
       "      <td>...</td>\n",
       "      <td>0</td>\n",
       "      <td>0</td>\n",
       "      <td>0</td>\n",
       "      <td>0</td>\n",
       "      <td>0</td>\n",
       "      <td>0</td>\n",
       "      <td>0</td>\n",
       "      <td>0</td>\n",
       "      <td>0</td>\n",
       "      <td>0</td>\n",
       "    </tr>\n",
       "    <tr>\n",
       "      <th>10292</th>\n",
       "      <td>1</td>\n",
       "      <td>152</td>\n",
       "      <td>2</td>\n",
       "      <td>3</td>\n",
       "      <td>0</td>\n",
       "      <td>0</td>\n",
       "      <td>0</td>\n",
       "      <td>0</td>\n",
       "      <td>0</td>\n",
       "      <td>0</td>\n",
       "      <td>...</td>\n",
       "      <td>0</td>\n",
       "      <td>0</td>\n",
       "      <td>0</td>\n",
       "      <td>0</td>\n",
       "      <td>0</td>\n",
       "      <td>0</td>\n",
       "      <td>0</td>\n",
       "      <td>0</td>\n",
       "      <td>0</td>\n",
       "      <td>0</td>\n",
       "    </tr>\n",
       "    <tr>\n",
       "      <th>10293</th>\n",
       "      <td>-1</td>\n",
       "      <td>184</td>\n",
       "      <td>2</td>\n",
       "      <td>3</td>\n",
       "      <td>0</td>\n",
       "      <td>0</td>\n",
       "      <td>0</td>\n",
       "      <td>0</td>\n",
       "      <td>0</td>\n",
       "      <td>-1</td>\n",
       "      <td>...</td>\n",
       "      <td>0</td>\n",
       "      <td>0</td>\n",
       "      <td>0</td>\n",
       "      <td>0</td>\n",
       "      <td>0</td>\n",
       "      <td>0</td>\n",
       "      <td>0</td>\n",
       "      <td>0</td>\n",
       "      <td>0</td>\n",
       "      <td>0</td>\n",
       "    </tr>\n",
       "  </tbody>\n",
       "</table>\n",
       "<p>10294 rows × 117 columns</p>\n",
       "</div>"
      ],
      "text/plain": [
       "       winner  cluster_ID  game_mode  game_type  Anti-Mage  Axe  Bane  \\\n",
       "0          -1         223          8          2          0   -1     0   \n",
       "1           1         227          8          2          0    0     0   \n",
       "2          -1         136          2          2          1    0     0   \n",
       "3           1         227          2          2         -1    0     0   \n",
       "4           1         184          2          3          0    0     0   \n",
       "...       ...         ...        ...        ...        ...  ...   ...   \n",
       "10289       1         121          2          2          0    0     0   \n",
       "10290       1         154          9          2          0    0     0   \n",
       "10291       1         122          9          2          0    0     0   \n",
       "10292       1         152          2          3          0    0     0   \n",
       "10293      -1         184          2          3          0    0     0   \n",
       "\n",
       "       Bloodseeker  Crystal Maiden  Drow Ranger  ...  Legion Commander  \\\n",
       "0                0               0            0  ...                -1   \n",
       "1                0               0            0  ...                -1   \n",
       "2                0              -1            0  ...                 0   \n",
       "3                0               0            0  ...                 0   \n",
       "4               -1               0            0  ...                 0   \n",
       "...            ...             ...          ...  ...               ...   \n",
       "10289            0               0            0  ...                 0   \n",
       "10290            0               0            0  ...                 0   \n",
       "10291            0               1            0  ...                 0   \n",
       "10292            0               0            0  ...                 0   \n",
       "10293            0               0           -1  ...                 0   \n",
       "\n",
       "       Techies  Ember Spirit  Earth Spirit  Abyssal Underlord  Terrorblade  \\\n",
       "0            0             0             0                  0            0   \n",
       "1            0             0             0                  0            0   \n",
       "2            0             0             0                  0            0   \n",
       "3            0             0             0                  0            0   \n",
       "4            0             0             0                  0            0   \n",
       "...        ...           ...           ...                ...          ...   \n",
       "10289       -1             0             0                  0            0   \n",
       "10290        0             0             0                  0            0   \n",
       "10291        0             0             0                  0            0   \n",
       "10292        0             0             0                  0            0   \n",
       "10293        0             0             0                  0            0   \n",
       "\n",
       "       Phoenix  Oracle  Winter Wyvern  Arc Warden  \n",
       "0            0       0              0           0  \n",
       "1            0       0              0           0  \n",
       "2            0       0              0           0  \n",
       "3            0       0              0           0  \n",
       "4            0       0              0           0  \n",
       "...        ...     ...            ...         ...  \n",
       "10289        0       0              0           0  \n",
       "10290        0       0              0           0  \n",
       "10291        0       0              0           0  \n",
       "10292        0       0              0           0  \n",
       "10293        0       0              0           0  \n",
       "\n",
       "[10294 rows x 117 columns]"
      ]
     },
     "execution_count": 9,
     "metadata": {},
     "output_type": "execute_result"
    }
   ],
   "source": [
    "test_data"
   ]
  },
  {
   "cell_type": "code",
   "execution_count": 10,
   "metadata": {
    "id": "8xgn_-SWzIlt"
   },
   "outputs": [
    {
     "data": {
      "text/html": [
       "<div>\n",
       "<style scoped>\n",
       "    .dataframe tbody tr th:only-of-type {\n",
       "        vertical-align: middle;\n",
       "    }\n",
       "\n",
       "    .dataframe tbody tr th {\n",
       "        vertical-align: top;\n",
       "    }\n",
       "\n",
       "    .dataframe thead th {\n",
       "        text-align: right;\n",
       "    }\n",
       "</style>\n",
       "<table border=\"1\" class=\"dataframe\">\n",
       "  <thead>\n",
       "    <tr style=\"text-align: right;\">\n",
       "      <th></th>\n",
       "      <th>winner</th>\n",
       "      <th>Anti-Mage</th>\n",
       "      <th>Axe</th>\n",
       "      <th>Bane</th>\n",
       "      <th>Bloodseeker</th>\n",
       "      <th>Crystal Maiden</th>\n",
       "      <th>Drow Ranger</th>\n",
       "      <th>Earthshaker</th>\n",
       "      <th>Juggernaut</th>\n",
       "      <th>Mirana</th>\n",
       "      <th>...</th>\n",
       "      <th>Elder Titan</th>\n",
       "      <th>Legion Commander</th>\n",
       "      <th>Techies</th>\n",
       "      <th>Ember Spirit</th>\n",
       "      <th>Earth Spirit</th>\n",
       "      <th>Terrorblade</th>\n",
       "      <th>Phoenix</th>\n",
       "      <th>Oracle</th>\n",
       "      <th>Winter Wyvern</th>\n",
       "      <th>Arc Warden</th>\n",
       "    </tr>\n",
       "  </thead>\n",
       "  <tbody>\n",
       "    <tr>\n",
       "      <th>0</th>\n",
       "      <td>-1</td>\n",
       "      <td>0</td>\n",
       "      <td>0</td>\n",
       "      <td>0</td>\n",
       "      <td>0</td>\n",
       "      <td>0</td>\n",
       "      <td>0</td>\n",
       "      <td>0</td>\n",
       "      <td>0</td>\n",
       "      <td>0</td>\n",
       "      <td>...</td>\n",
       "      <td>0</td>\n",
       "      <td>0</td>\n",
       "      <td>0</td>\n",
       "      <td>0</td>\n",
       "      <td>0</td>\n",
       "      <td>0</td>\n",
       "      <td>0</td>\n",
       "      <td>0</td>\n",
       "      <td>0</td>\n",
       "      <td>0</td>\n",
       "    </tr>\n",
       "    <tr>\n",
       "      <th>1</th>\n",
       "      <td>1</td>\n",
       "      <td>0</td>\n",
       "      <td>0</td>\n",
       "      <td>0</td>\n",
       "      <td>1</td>\n",
       "      <td>0</td>\n",
       "      <td>-1</td>\n",
       "      <td>0</td>\n",
       "      <td>0</td>\n",
       "      <td>0</td>\n",
       "      <td>...</td>\n",
       "      <td>0</td>\n",
       "      <td>0</td>\n",
       "      <td>0</td>\n",
       "      <td>0</td>\n",
       "      <td>0</td>\n",
       "      <td>0</td>\n",
       "      <td>0</td>\n",
       "      <td>0</td>\n",
       "      <td>0</td>\n",
       "      <td>0</td>\n",
       "    </tr>\n",
       "    <tr>\n",
       "      <th>2</th>\n",
       "      <td>1</td>\n",
       "      <td>0</td>\n",
       "      <td>0</td>\n",
       "      <td>0</td>\n",
       "      <td>1</td>\n",
       "      <td>0</td>\n",
       "      <td>-1</td>\n",
       "      <td>0</td>\n",
       "      <td>0</td>\n",
       "      <td>0</td>\n",
       "      <td>...</td>\n",
       "      <td>0</td>\n",
       "      <td>0</td>\n",
       "      <td>0</td>\n",
       "      <td>0</td>\n",
       "      <td>0</td>\n",
       "      <td>0</td>\n",
       "      <td>0</td>\n",
       "      <td>0</td>\n",
       "      <td>0</td>\n",
       "      <td>0</td>\n",
       "    </tr>\n",
       "    <tr>\n",
       "      <th>3</th>\n",
       "      <td>1</td>\n",
       "      <td>0</td>\n",
       "      <td>0</td>\n",
       "      <td>0</td>\n",
       "      <td>0</td>\n",
       "      <td>0</td>\n",
       "      <td>0</td>\n",
       "      <td>-1</td>\n",
       "      <td>0</td>\n",
       "      <td>0</td>\n",
       "      <td>...</td>\n",
       "      <td>0</td>\n",
       "      <td>-1</td>\n",
       "      <td>0</td>\n",
       "      <td>0</td>\n",
       "      <td>0</td>\n",
       "      <td>0</td>\n",
       "      <td>0</td>\n",
       "      <td>0</td>\n",
       "      <td>0</td>\n",
       "      <td>0</td>\n",
       "    </tr>\n",
       "    <tr>\n",
       "      <th>4</th>\n",
       "      <td>-1</td>\n",
       "      <td>0</td>\n",
       "      <td>0</td>\n",
       "      <td>0</td>\n",
       "      <td>0</td>\n",
       "      <td>0</td>\n",
       "      <td>-1</td>\n",
       "      <td>0</td>\n",
       "      <td>0</td>\n",
       "      <td>-1</td>\n",
       "      <td>...</td>\n",
       "      <td>0</td>\n",
       "      <td>0</td>\n",
       "      <td>0</td>\n",
       "      <td>0</td>\n",
       "      <td>0</td>\n",
       "      <td>0</td>\n",
       "      <td>0</td>\n",
       "      <td>0</td>\n",
       "      <td>0</td>\n",
       "      <td>0</td>\n",
       "    </tr>\n",
       "    <tr>\n",
       "      <th>...</th>\n",
       "      <td>...</td>\n",
       "      <td>...</td>\n",
       "      <td>...</td>\n",
       "      <td>...</td>\n",
       "      <td>...</td>\n",
       "      <td>...</td>\n",
       "      <td>...</td>\n",
       "      <td>...</td>\n",
       "      <td>...</td>\n",
       "      <td>...</td>\n",
       "      <td>...</td>\n",
       "      <td>...</td>\n",
       "      <td>...</td>\n",
       "      <td>...</td>\n",
       "      <td>...</td>\n",
       "      <td>...</td>\n",
       "      <td>...</td>\n",
       "      <td>...</td>\n",
       "      <td>...</td>\n",
       "      <td>...</td>\n",
       "      <td>...</td>\n",
       "    </tr>\n",
       "    <tr>\n",
       "      <th>92645</th>\n",
       "      <td>-1</td>\n",
       "      <td>1</td>\n",
       "      <td>0</td>\n",
       "      <td>0</td>\n",
       "      <td>-1</td>\n",
       "      <td>0</td>\n",
       "      <td>0</td>\n",
       "      <td>0</td>\n",
       "      <td>0</td>\n",
       "      <td>-1</td>\n",
       "      <td>...</td>\n",
       "      <td>0</td>\n",
       "      <td>0</td>\n",
       "      <td>0</td>\n",
       "      <td>0</td>\n",
       "      <td>0</td>\n",
       "      <td>0</td>\n",
       "      <td>0</td>\n",
       "      <td>0</td>\n",
       "      <td>0</td>\n",
       "      <td>0</td>\n",
       "    </tr>\n",
       "    <tr>\n",
       "      <th>92646</th>\n",
       "      <td>1</td>\n",
       "      <td>0</td>\n",
       "      <td>0</td>\n",
       "      <td>0</td>\n",
       "      <td>0</td>\n",
       "      <td>-1</td>\n",
       "      <td>0</td>\n",
       "      <td>0</td>\n",
       "      <td>-1</td>\n",
       "      <td>0</td>\n",
       "      <td>...</td>\n",
       "      <td>0</td>\n",
       "      <td>1</td>\n",
       "      <td>0</td>\n",
       "      <td>0</td>\n",
       "      <td>0</td>\n",
       "      <td>0</td>\n",
       "      <td>0</td>\n",
       "      <td>0</td>\n",
       "      <td>0</td>\n",
       "      <td>0</td>\n",
       "    </tr>\n",
       "    <tr>\n",
       "      <th>92647</th>\n",
       "      <td>1</td>\n",
       "      <td>0</td>\n",
       "      <td>0</td>\n",
       "      <td>0</td>\n",
       "      <td>0</td>\n",
       "      <td>0</td>\n",
       "      <td>0</td>\n",
       "      <td>0</td>\n",
       "      <td>0</td>\n",
       "      <td>1</td>\n",
       "      <td>...</td>\n",
       "      <td>0</td>\n",
       "      <td>0</td>\n",
       "      <td>0</td>\n",
       "      <td>0</td>\n",
       "      <td>0</td>\n",
       "      <td>0</td>\n",
       "      <td>0</td>\n",
       "      <td>0</td>\n",
       "      <td>0</td>\n",
       "      <td>0</td>\n",
       "    </tr>\n",
       "    <tr>\n",
       "      <th>92648</th>\n",
       "      <td>-1</td>\n",
       "      <td>0</td>\n",
       "      <td>0</td>\n",
       "      <td>0</td>\n",
       "      <td>0</td>\n",
       "      <td>0</td>\n",
       "      <td>1</td>\n",
       "      <td>0</td>\n",
       "      <td>0</td>\n",
       "      <td>-1</td>\n",
       "      <td>...</td>\n",
       "      <td>0</td>\n",
       "      <td>0</td>\n",
       "      <td>0</td>\n",
       "      <td>0</td>\n",
       "      <td>0</td>\n",
       "      <td>0</td>\n",
       "      <td>0</td>\n",
       "      <td>0</td>\n",
       "      <td>0</td>\n",
       "      <td>0</td>\n",
       "    </tr>\n",
       "    <tr>\n",
       "      <th>92649</th>\n",
       "      <td>-1</td>\n",
       "      <td>0</td>\n",
       "      <td>-1</td>\n",
       "      <td>0</td>\n",
       "      <td>0</td>\n",
       "      <td>1</td>\n",
       "      <td>0</td>\n",
       "      <td>0</td>\n",
       "      <td>0</td>\n",
       "      <td>0</td>\n",
       "      <td>...</td>\n",
       "      <td>0</td>\n",
       "      <td>0</td>\n",
       "      <td>0</td>\n",
       "      <td>0</td>\n",
       "      <td>0</td>\n",
       "      <td>0</td>\n",
       "      <td>0</td>\n",
       "      <td>0</td>\n",
       "      <td>0</td>\n",
       "      <td>0</td>\n",
       "    </tr>\n",
       "  </tbody>\n",
       "</table>\n",
       "<p>92650 rows × 112 columns</p>\n",
       "</div>"
      ],
      "text/plain": [
       "       winner  Anti-Mage  Axe  Bane  Bloodseeker  Crystal Maiden  Drow Ranger  \\\n",
       "0          -1          0    0     0            0               0            0   \n",
       "1           1          0    0     0            1               0           -1   \n",
       "2           1          0    0     0            1               0           -1   \n",
       "3           1          0    0     0            0               0            0   \n",
       "4          -1          0    0     0            0               0           -1   \n",
       "...       ...        ...  ...   ...          ...             ...          ...   \n",
       "92645      -1          1    0     0           -1               0            0   \n",
       "92646       1          0    0     0            0              -1            0   \n",
       "92647       1          0    0     0            0               0            0   \n",
       "92648      -1          0    0     0            0               0            1   \n",
       "92649      -1          0   -1     0            0               1            0   \n",
       "\n",
       "       Earthshaker  Juggernaut  Mirana  ...  Elder Titan  Legion Commander  \\\n",
       "0                0           0       0  ...            0                 0   \n",
       "1                0           0       0  ...            0                 0   \n",
       "2                0           0       0  ...            0                 0   \n",
       "3               -1           0       0  ...            0                -1   \n",
       "4                0           0      -1  ...            0                 0   \n",
       "...            ...         ...     ...  ...          ...               ...   \n",
       "92645            0           0      -1  ...            0                 0   \n",
       "92646            0          -1       0  ...            0                 1   \n",
       "92647            0           0       1  ...            0                 0   \n",
       "92648            0           0      -1  ...            0                 0   \n",
       "92649            0           0       0  ...            0                 0   \n",
       "\n",
       "       Techies  Ember Spirit  Earth Spirit  Terrorblade  Phoenix  Oracle  \\\n",
       "0            0             0             0            0        0       0   \n",
       "1            0             0             0            0        0       0   \n",
       "2            0             0             0            0        0       0   \n",
       "3            0             0             0            0        0       0   \n",
       "4            0             0             0            0        0       0   \n",
       "...        ...           ...           ...          ...      ...     ...   \n",
       "92645        0             0             0            0        0       0   \n",
       "92646        0             0             0            0        0       0   \n",
       "92647        0             0             0            0        0       0   \n",
       "92648        0             0             0            0        0       0   \n",
       "92649        0             0             0            0        0       0   \n",
       "\n",
       "       Winter Wyvern  Arc Warden  \n",
       "0                  0           0  \n",
       "1                  0           0  \n",
       "2                  0           0  \n",
       "3                  0           0  \n",
       "4                  0           0  \n",
       "...              ...         ...  \n",
       "92645              0           0  \n",
       "92646              0           0  \n",
       "92647              0           0  \n",
       "92648              0           0  \n",
       "92649              0           0  \n",
       "\n",
       "[92650 rows x 112 columns]"
      ]
     },
     "execution_count": 10,
     "metadata": {},
     "output_type": "execute_result"
    }
   ],
   "source": [
    "#dropping irrelevant columns\n",
    "train_data = train_data.drop([\"cluster_ID\", \"game_mode\", \"game_type\", \"unknown23\", \"Abyssal Underlord\"],axis = 1)\n",
    "test_data = test_data.drop([\"cluster_ID\", \"game_mode\", \"game_type\", \"unknown23\", \"Abyssal Underlord\"],axis = 1)\n",
    "hero_names = [i for i in hero_names if \"unknown\" not in i]\n",
    "del hero_names[-6]\n",
    "\n",
    "train_data"
   ]
  },
  {
   "cell_type": "markdown",
   "metadata": {
    "id": "_yOuw-UOsxeI"
   },
   "source": [
    "##Basic Plots "
   ]
  },
  {
   "cell_type": "code",
   "execution_count": 11,
   "metadata": {
    "id": "nei7ZANh0YqW"
   },
   "outputs": [
    {
     "data": {
      "text/plain": [
       "(102944, 112)"
      ]
     },
     "execution_count": 11,
     "metadata": {},
     "output_type": "execute_result"
    }
   ],
   "source": [
    "all_data = pd.concat([train_data,test_data])\n",
    "all_data.shape"
   ]
  },
  {
   "cell_type": "markdown",
   "metadata": {},
   "source": [
    "For the all_data data frame, we have 102944 rows as our data pool and 111 heros."
   ]
  },
  {
   "cell_type": "markdown",
   "metadata": {
    "id": "qvg_-sKiuj5p"
   },
   "source": [
    "###Winning Count for Each Team"
   ]
  },
  {
   "cell_type": "code",
   "execution_count": 12,
   "metadata": {
    "colab": {
     "base_uri": "https://localhost:8080/",
     "height": 485
    },
    "id": "dThwuFfWuvKv",
    "outputId": "c49e3a5c-be69-4490-977b-0cc339e79e9d"
   },
   "outputs": [
    {
     "data": {
      "text/plain": [
       "Text(0.5, 1.0, 'Odds of Team 1 VS Team 2')"
      ]
     },
     "execution_count": 12,
     "metadata": {},
     "output_type": "execute_result"
    },
    {
     "data": {
      "image/png": "[encoded data removed]",
      "text/plain": [
       "<Figure size 720x360 with 1 Axes>"
      ]
     },
     "metadata": {
      "needs_background": "light"
     },
     "output_type": "display_data"
    }
   ],
   "source": [
    "fig, ax1 = plt.subplots(1, 1, figsize= (10, 5))\n",
    "all_data['winner'].value_counts().plot(kind='bar', ax=ax1)\n",
    "plt.title(\"Odds of Team 1 VS Team 2\")"
   ]
  },
  {
   "cell_type": "markdown",
   "metadata": {
    "id": "RSDzzHYQD3Cy"
   },
   "source": [
    "To explore the dataset and visualize it. We first plotted the number of wins for each team. We found team 1 wins just a little bit more than team 2 in this dataset. "
   ]
  },
  {
   "cell_type": "markdown",
   "metadata": {
    "id": "8sHqE4TNuqhT"
   },
   "source": [
    "###Hero Popularity"
   ]
  },
  {
   "cell_type": "code",
   "execution_count": 13,
   "metadata": {
    "colab": {
     "base_uri": "https://localhost:8080/",
     "height": 452
    },
    "id": "LjHq3CO20gIN",
    "outputId": "d5202479-07c3-485c-fd88-d560975e63fc"
   },
   "outputs": [
    {
     "data": {
      "image/png": "[encoded data removed]",
      "text/plain": [
       "<Figure size 432x288 with 1 Axes>"
      ]
     },
     "metadata": {
      "needs_background": "light"
     },
     "output_type": "display_data"
    }
   ],
   "source": [
    "hero_win_count = pd.DataFrame.from_dict({i:len(all_data[all_data[i]==all_data[\"winner\"]]) for i in hero_names},\n",
    "                                        orient='index',\n",
    "                                        columns=['win_count']).T\n",
    "hero_pick_count = all_data.astype(bool).sum(axis=0).iloc[1:].T\n",
    "hero_win_rate = (hero_win_count/hero_pick_count).rename(index={\"win_count\":\"win_rate\"})\n",
    "fig, ax1 = plt.subplots(1, 1)\n",
    "hero_pick_count.nlargest(10)[::-1].plot.barh()\n",
    "plt.title(\"Top 10 Heroes Popularity\")\n",
    "plt.show()"
   ]
  },
  {
   "cell_type": "markdown",
   "metadata": {
    "id": "vLeIkfS96lz6"
   },
   "source": [
    "From the chart, Mirana is the most popular hero among all the heroes. Phantom Assassin is the second and Pudge is the third. We got their ranking according to the sum of times they appear in all games. However, popularity does not mean a high winning rate. "
   ]
  },
  {
   "cell_type": "markdown",
   "metadata": {
    "id": "9bQ_9gfX6_uy"
   },
   "source": [
    "###Number of Games Won"
   ]
  },
  {
   "cell_type": "code",
   "execution_count": 14,
   "metadata": {
    "colab": {
     "base_uri": "https://localhost:8080/",
     "height": 452
    },
    "id": "GM0EBpqk6Pk8",
    "outputId": "b3c19786-fc28-47b1-cf72-00caad7109a7"
   },
   "outputs": [
    {
     "data": {
      "image/png": "[encoded data removed]",
      "text/plain": [
       "<Figure size 432x288 with 1 Axes>"
      ]
     },
     "metadata": {
      "needs_background": "light"
     },
     "output_type": "display_data"
    }
   ],
   "source": [
    "fig, ax1 = plt.subplots(1, 1)\n",
    "hero_win_count.iloc[0].nlargest(10)[::-1].plot.barh()\n",
    "plt.title(\"Top 10 Number of Games Won\")\n",
    "plt.show()"
   ]
  },
  {
   "cell_type": "markdown",
   "metadata": {
    "id": "sfN5hFYb7kVQ"
   },
   "source": [
    "It is not surprising that a hero with high popularity will also have more winning games since their attendance rate is also high. The thing we care most is actually the winning rate as follows."
   ]
  },
  {
   "cell_type": "markdown",
   "metadata": {
    "id": "UbATXpGw76P6"
   },
   "source": [
    "###Winning Rate"
   ]
  },
  {
   "cell_type": "code",
   "execution_count": 15,
   "metadata": {
    "colab": {
     "base_uri": "https://localhost:8080/",
     "height": 452
    },
    "id": "X9shQf3w59tC",
    "outputId": "b233323f-d478-47bf-a4a0-b4c7aef8e895"
   },
   "outputs": [
    {
     "data": {
      "image/png": "[encoded data removed]",
      "text/plain": [
       "<Figure size 432x288 with 1 Axes>"
      ]
     },
     "metadata": {
      "needs_background": "light"
     },
     "output_type": "display_data"
    }
   ],
   "source": [
    "fig, ax1 = plt.subplots(1, 1)\n",
    "hero_win_rate.iloc[0].nlargest(10)[::-1].plot.barh()\n",
    "plt.title(\"Top 10 Heros with Highest Winning Rate\")\n",
    "plt.show()"
   ]
  },
  {
   "cell_type": "markdown",
   "metadata": {
    "id": "3L_4E-RN8EqZ"
   },
   "source": [
    "We can see that although Mirana has the highest popularity and number of winning games, the overall winning rate performs not so well. On the contrary, Omniknight, Elder Titan and Necrophos has the top three winning rate."
   ]
  },
  {
   "cell_type": "markdown",
   "metadata": {},
   "source": [
    "###Hero Synergy Analysis"
   ]
  },
  {
   "cell_type": "code",
   "execution_count": 16,
   "metadata": {},
   "outputs": [
    {
     "data": {
      "image/png": "[encoded data removed]",
      "text/plain": [
       "<Figure size 432x288 with 1 Axes>"
      ]
     },
     "metadata": {
      "needs_background": "light"
     },
     "output_type": "display_data"
    }
   ],
   "source": [
    "# create a list of all possible hero pairs\n",
    "hero_pairs = []\n",
    "for i in range(len(hero_names)):\n",
    "    for j in range(i+1, len(hero_names)):\n",
    "        hero_pairs.append((hero_names[i], hero_names[j]))\n",
    "\n",
    "# # calculate win rates for each hero pair\n",
    "pair_win_rates = {}\n",
    "for pair in hero_pairs:\n",
    "#     filters the rows where both heroes of the pair are selected by the same team in a game\n",
    "    pair_win_rates[pair] = all_data[(all_data[pair[0]] == 1) & (all_data[pair[1]] == 1)][\"winner\"].mean()\n",
    "\n",
    "# # calculate win rates for each hero pair\n",
    "# pair_win_rates = {}\n",
    "# for pair in hero_pairs:\n",
    "#     # count the number of times this hero pair appears in winning games\n",
    "#     win_count = ((all_data[pair[0]] == 1) & (all_data[pair[1]] == 1) & (all_data[\"winner\"] == 1)).sum()\n",
    "#     # count the number of times this hero pair appears in all games\n",
    "#     total_count = ((all_data[pair[0]] == 1) & (all_data[pair[1]] == 1)).sum()\n",
    "#     # calculate the win rate as the ratio of the two counts\n",
    "#     if total_count > 0:\n",
    "#         pair_win_rates[pair] = win_count / total_count\n",
    "#     else:\n",
    "#         pair_win_rates[pair] = 0\n",
    "\n",
    "\n",
    "# calculate individual win rates for each hero\n",
    "hero_win_rates = {}\n",
    "for hero in hero_names:\n",
    "    hero_win_rates[hero] = all_data[all_data[hero] == 1][\"winner\"].mean()\n",
    "\n",
    "# compare pair win rates to individual win rates\n",
    "synergies = {}\n",
    "for pair in hero_pairs:\n",
    "    expected_win_rate = (hero_win_rates[pair[0]] + hero_win_rates[pair[1]]) / 2\n",
    "    actual_win_rate = pair_win_rates[pair]\n",
    "    if actual_win_rate > expected_win_rate:\n",
    "        synergies[pair] = actual_win_rate - expected_win_rate\n",
    "\n",
    "# print top 10 hero pairs with the highest synergy scores\n",
    "sorted_synergies = sorted(synergies.items(), key=lambda x: x[1], reverse=True)\n",
    "# for i in range(10):\n",
    "#     print(sorted_synergies[i])\n",
    "\n",
    "top_pairs = sorted_synergies[:10]\n",
    "top_pairs_names = [f\"{pair[0][0]} and {pair[0][1]}\" for pair in top_pairs]\n",
    "synergy_scores = [pair[1] for pair in top_pairs]\n",
    "\n",
    "# plot the results in a horizontal bar chart\n",
    "plt.barh(top_pairs_names, synergy_scores)\n",
    "plt.xlabel(\"Synergy Score\")\n",
    "plt.ylabel(\"Hero Pairs\")\n",
    "plt.title(\"Top 10 Hero Pairs with Highest Synergy Scores\")\n",
    "plt.show()\n"
   ]
  },
  {
   "cell_type": "markdown",
   "metadata": {},
   "source": [
    "From the above chart, we can see that the hero pairs with the highest synergy scores are often include hero Chen. It have a significantly higher win rate when played together than what would be expected based on the win rates of itself. This suggests that chen have strong synergy and complement many other heros well in a game. "
   ]
  },
  {
   "cell_type": "markdown",
   "metadata": {},
   "source": [
    "###Hero Counter Analysis"
   ]
  },
  {
   "cell_type": "code",
   "execution_count": 39,
   "metadata": {},
   "outputs": [
    {
     "name": "stdout",
     "output_type": "stream",
     "text": [
      "Top 10 Hero Counters:\n"
     ]
    },
    {
     "data": {
      "image/png": "[encoded data removed]",
      "text/plain": [
       "<Figure size 432x288 with 1 Axes>"
      ]
     },
     "metadata": {
      "needs_background": "light"
     },
     "output_type": "display_data"
    }
   ],
   "source": [
    "# create a list of all possible hero pairs\n",
    "hero_pairs = []\n",
    "for i in range(len(hero_names)):\n",
    "    for j in range(i+1, len(hero_names)):\n",
    "        hero_pairs.append((hero_names[i], hero_names[j]))\n",
    "\n",
    "# calculate win rates for each hero pair\n",
    "pair_win_rates = {}\n",
    "for pair in hero_pairs:\n",
    "    pair_win_rates[pair] = all_data[(all_data[pair[0]] == 1) & (all_data[pair[1]] == 0)][\"winner\"].mean()\n",
    "\n",
    "# calculate individual win rates for each hero\n",
    "hero_win_rates = {}\n",
    "for hero in hero_names:\n",
    "    hero_win_rates[hero] = all_data[all_data[hero] == 1][\"winner\"].mean()\n",
    "\n",
    "# compare pair win rates to individual win rates\n",
    "counters = {}\n",
    "for pair in hero_pairs:\n",
    "    expected_win_rate = hero_win_rates[pair[0]]\n",
    "    actual_win_rate = pair_win_rates[pair]\n",
    "    if actual_win_rate < expected_win_rate:\n",
    "        counters[pair] = expected_win_rate - actual_win_rate\n",
    "\n",
    "# get the top 10 counter pairs\n",
    "top_counters = sorted(counters.items(), key=lambda x: x[1], reverse=True)[:10]\n",
    "\n",
    "# print top 10 hero pairs with the highest counter scores\n",
    "print(\"Top 10 Hero Counters:\")\n",
    "\n",
    "# create lists of the hero pairs and their counter values\n",
    "hero_pairs = [f\"{pair[0][0]}  VS  {pair[0][1]}\" for pair in top_counters]\n",
    "counter_values = [pair[1] for pair in top_counters]\n",
    "\n",
    "# create a bar chart\n",
    "plt.bar(hero_pairs, counter_values)\n",
    "plt.title(\"Top 10 Hero Counters\")\n",
    "plt.xlabel(\"Hero Pairs\")\n",
    "plt.xticks(rotation=90)\n",
    "plt.ylabel(\"Counter Value\")\n",
    "plt.show()"
   ]
  },
  {
   "cell_type": "markdown",
   "metadata": {},
   "source": [
    "Based on the hero counter analysis, we can see that some hero pairs have a comparatively high counter value, meaning that when one hero is picked, it is comparatively effective against the other hero. However, it's difficult to say if there are any clear rules that can be deducted from the data, as the effectiveness of a hero depends on many factors, including the specific strategies and tactics employed by the players in each game.\n",
    "\n",
    "That being said, the data does provide some insights into which hero pairs are particularly effective against each other, which could be useful for players looking to gain an advantage in their matches. For example, based on the top 10 counter pairs, we can see that picking Leshrac as a counter to Slark, or picking Chen as a counter to Centuar Warrunner, may be particularly effective strategies."
   ]
  },
  {
   "cell_type": "markdown",
   "metadata": {
    "id": "nDg13reO-In0"
   },
   "source": [
    "#Model Training"
   ]
  },
  {
   "cell_type": "markdown",
   "metadata": {
    "id": "0buWZA4dV6Yr"
   },
   "source": [
    "## Preprocess Data"
   ]
  },
  {
   "cell_type": "markdown",
   "metadata": {},
   "source": [
    "From the dimensions of the data, we can easily find that there were too many variables and most of which are zeroes. To learn dispersed data, we should have some ideas to transform the data.\n",
    "\n",
    "\n",
    "Categorical variables cannot be directly used in most machine learning algorithms because they are non-numeric. Therefore, you typically need to convert them into a numerical form that can be used by the algorithm. There are several common techniques for doing this, including one-hot encoding, label encoding, and binary encoding, among others.\n",
    "\n",
    "\n",
    "### Combination Embedding\n",
    "\n",
    "In this method, we apply simple embedding to reduce the dimension. We consider every team is one combination of 112 chooose 5. And then, we use 1 integer to represent the embedded X contains (team1_comp as integer, team2_comp as integer). However, this could cause a problem since different numbers will have real values and we know that they are non-ordinal. So this will cause a mess when learning. This method brings in a natural ordering for different classes.\n",
    "\n",
    "### PCA Embedding\n",
    "\n",
    "We are using principle component analysis in this method. This could be the best way to reduce the dimensions. However, using PCA on dispersed data could lose some important information.\n",
    "\n",
    "### One-hot encoding\n",
    "\n",
    "For Dota2 hero picks, I would recommend using one-hot encoding to transform the categorical data into numerical data. This is because one-hot encoding is a simple and effective way to encode categorical variables into a format that machine learning models can understand. In this case, we can one-hot encode each hero pick as a binary vector of length equal to the number of heroes, where the value 1 indicates that the hero was picked and the value 0 indicates that the hero was not picked.\n",
    "\n",
    "While PCA and combination embeddings can also be useful for transforming data, they may not be necessary in this case since there are only a limited number of hero picks and each hero is unique, making it easy to one-hot encode the data. However, if there were a large number of hero picks and/or many similar heroes that could be grouped together, then PCA or combination embeddings may be useful for reducing the dimensionality of the data and capturing meaningful relationships between the hero picks."
   ]
  },
  {
   "cell_type": "code",
   "execution_count": 18,
   "metadata": {
    "id": "m-QKtntIPIwD"
   },
   "outputs": [],
   "source": [
    "from sklearn.preprocessing import OneHotEncoder\n",
    "def OneHot(X):\n",
    "    enc = OneHotEncoder(handle_unknown='ignore')\n",
    "    return enc.fit_transform(X).toarray()"
   ]
  },
  {
   "cell_type": "markdown",
   "metadata": {
    "id": "oYBLUi35uyDE"
   },
   "source": [
    "##Define Train/Test dataset"
   ]
  },
  {
   "cell_type": "code",
   "execution_count": 19,
   "metadata": {
    "id": "c8qJSLSRbPkz"
   },
   "outputs": [],
   "source": [
    "from sklearn.metrics import accuracy_score, zero_one_loss\n",
    "from sklearn.preprocessing import normalize\n",
    "from sklearn.model_selection import train_test_split\n",
    "\n",
    "def transform_y_as_01(y):\n",
    "    y[y == -1] = 0\n",
    "    return y\n",
    "\n",
    "X = all_data.iloc[:,1:].values\n",
    "Y = all_data.iloc[:,0].values\n",
    "\n",
    "\n",
    "X = OneHot(X)\n",
    "Y = transform_y_as_01(Y)\n",
    "\n",
    "trainX, testX, trainY, testY = train_test_split(X, Y, test_size=0.1, random_state=42)"
   ]
  },
  {
   "cell_type": "code",
   "execution_count": 20,
   "metadata": {
    "colab": {
     "base_uri": "https://localhost:8080/"
    },
    "id": "HfYRCd8eUKfb",
    "outputId": "22fb54e8-1d63-4455-a2e7-2680a2863529"
   },
   "outputs": [
    {
     "name": "stdout",
     "output_type": "stream",
     "text": [
      "(92649, 333)\n",
      "(92649,)\n",
      "(10295, 333)\n",
      "(10295,)\n"
     ]
    }
   ],
   "source": [
    "print(trainX.shape)\n",
    "# Check for -1 values in trainX\n",
    "# print(np.isin(trainX, [-1]).any())\n",
    "print(trainY.shape)\n",
    "# print(np.isin(trainY, [-1]).any())\n",
    "print(testX.shape)\n",
    "print(testY.shape)"
   ]
  },
  {
   "cell_type": "markdown",
   "metadata": {
    "id": "j1e3IY1k-dNp"
   },
   "source": [
    "##Different Methods of Training"
   ]
  },
  {
   "cell_type": "markdown",
   "metadata": {},
   "source": [
    "For the Dota2 hero picks data, we can use various machine learning models such as logistic regression, decision trees, random forests, support vector machines (SVM), and KNN. The choice of model depends on various factors such as the size of the dataset, the number of features, the nature of the problem, and the performance metric of interest. Since the Dota2 hero picks dataset is relatively small and the number of features is not very large, we can use models such as logistic regression, decision trees, and random forests as a good starting point. We can then experiment with other models to see which one performs the best for this specific problem."
   ]
  },
  {
   "cell_type": "markdown",
   "metadata": {},
   "source": [
    "###Approach #1: Logistic Regression"
   ]
  },
  {
   "cell_type": "markdown",
   "metadata": {},
   "source": [
    "Logistic regression is a popular algorithm for binary classification problems, where the goal is to predict a binary outcome variable (e.g. yes/no, 1/0, true/false) based on one or more predictor variables. In our case, Our outcome variable is binary, so logistic regression is a suitable algorithm to use for this problem.\n",
    "\n",
    "Logistic regression provides interpretable results, as the model outputs coefficients that can be used to estimate the effect of each predictor variable on the probability of the binary outcome. This can be useful for understanding which predictors are most important for predicting the outcome and how they affect the probability of the outcome."
   ]
  },
  {
   "cell_type": "code",
   "execution_count": 21,
   "metadata": {},
   "outputs": [
    {
     "name": "stdout",
     "output_type": "stream",
     "text": [
      "Zero-one loss: 0.3976687712481787\n",
      "Accuracy score: 0.6023312287518213\n",
      "ROC AUC score: 0.6386224105777463\n"
     ]
    },
    {
     "name": "stderr",
     "output_type": "stream",
     "text": [
      "/opt/anaconda3/lib/python3.8/site-packages/sklearn/linear_model/_logistic.py:762: ConvergenceWarning: lbfgs failed to converge (status=1):\n",
      "STOP: TOTAL NO. of ITERATIONS REACHED LIMIT.\n",
      "\n",
      "Increase the number of iterations (max_iter) or scale the data as shown in:\n",
      "    https://scikit-learn.org/stable/modules/preprocessing.html\n",
      "Please also refer to the documentation for alternative solver options:\n",
      "    https://scikit-learn.org/stable/modules/linear_model.html#logistic-regression\n",
      "  n_iter_i = _check_optimize_result(\n"
     ]
    }
   ],
   "source": [
    "from sklearn.linear_model import LogisticRegression\n",
    "from sklearn.metrics import zero_one_loss, accuracy_score, roc_auc_score\n",
    "\n",
    "# Create a logistic regression object\n",
    "lr = LogisticRegression()\n",
    "\n",
    "# Train the model on the training data\n",
    "lr.fit(trainX, trainY)\n",
    "\n",
    "# Make predictions on the test data\n",
    "predY = lr.predict(testX)\n",
    "\n",
    "# Calculate zero_one_loss, accuracy_score, and roc_auc_score\n",
    "print(\"Zero-one loss:\", zero_one_loss(testY, predY))\n",
    "print(\"Accuracy score:\", accuracy_score(testY, predY))\n",
    "print(\"ROC AUC score:\", roc_auc_score(testY, lr.predict_proba(testX)[:,1]))"
   ]
  },
  {
   "cell_type": "markdown",
   "metadata": {
    "id": "P9K8xBi4-8ih"
   },
   "source": [
    "###Approach #2: Support Vector Machine"
   ]
  },
  {
   "cell_type": "markdown",
   "metadata": {
    "id": "h8PW330yrDKa"
   },
   "source": [
    "For the support vector machine method,considering the high dimension of the data, we need to adjust the tolerent classifying error when we find the best classifier since we can not expect the data points are linear separable. We used the svm function in sklearn package to investigate the performance of the model. And the accuracy is around 0.6. After adjusting the parameters of the model and comparing the accuracy with the others, it has an average level of accuracy.\n",
    "\n",
    "There seems to be many parameters to adjust in this model, and we selected the best combination of them as follows. "
   ]
  },
  {
   "cell_type": "code",
   "execution_count": 22,
   "metadata": {
    "colab": {
     "base_uri": "https://localhost:8080/",
     "height": 110
    },
    "id": "MHejJMSCB9cl",
    "outputId": "b0669a37-abcb-460c-82e4-be3129d6cef1"
   },
   "outputs": [
    {
     "name": "stderr",
     "output_type": "stream",
     "text": [
      "/opt/anaconda3/lib/python3.8/site-packages/sklearn/svm/_base.py:976: ConvergenceWarning: Liblinear failed to converge, increase the number of iterations.\n",
      "  warnings.warn(\"Liblinear failed to converge, increase \"\n"
     ]
    },
    {
     "data": {
      "text/plain": [
       "LinearSVC()"
      ]
     },
     "execution_count": 22,
     "metadata": {},
     "output_type": "execute_result"
    }
   ],
   "source": [
    "from sklearn import svm\n",
    "clf = svm.LinearSVC()\n",
    "clf.fit(trainX, trainY)"
   ]
  },
  {
   "cell_type": "code",
   "execution_count": 23,
   "metadata": {
    "id": "P0mAUEjTXWNn"
   },
   "outputs": [],
   "source": [
    "predY = clf.predict(testX) > 0.5"
   ]
  },
  {
   "cell_type": "code",
   "execution_count": 24,
   "metadata": {
    "colab": {
     "base_uri": "https://localhost:8080/"
    },
    "id": "O1As7ZLnXvhy",
    "outputId": "01ea0036-03e3-4bd1-8d8a-0e346984cb75"
   },
   "outputs": [
    {
     "name": "stdout",
     "output_type": "stream",
     "text": [
      "loss of SVM: 0.3979601748421564\n",
      "accuracy of SVM: 0.6020398251578436\n"
     ]
    }
   ],
   "source": [
    "print(\"loss of SVM:\", zero_one_loss(testY, predY))\n",
    "print(\"accuracy of SVM:\", accuracy_score(testY, predY))"
   ]
  },
  {
   "cell_type": "code",
   "execution_count": 25,
   "metadata": {
    "colab": {
     "base_uri": "https://localhost:8080/",
     "height": 295
    },
    "id": "41f0w1EDDLhy",
    "outputId": "c15a542c-26f6-466c-c6b8-4c7dba20f9b6"
   },
   "outputs": [
    {
     "data": {
      "image/png": "[encoded data removed]",
      "text/plain": [
       "<Figure size 432x288 with 1 Axes>"
      ]
     },
     "metadata": {
      "needs_background": "light"
     },
     "output_type": "display_data"
    }
   ],
   "source": [
    "from sklearn.metrics import roc_curve, auc, roc_auc_score\n",
    "predictions_validation = clf.predict(testX)\n",
    "fpr, tpr, _ = roc_curve(testY, predictions_validation)\n",
    "roc_auc = auc(fpr, tpr)\n",
    "plt.title('ROC Validation of the SVM after tuning')\n",
    "plt.plot(fpr, tpr, 'b', label='AUC = %0.3f' % roc_auc)\n",
    "plt.legend(loc='lower right')\n",
    "plt.plot([0, 1], [0, 1], 'r--')\n",
    "plt.xlim([0, 1])\n",
    "plt.ylim([0, 1])\n",
    "plt.ylabel('True Positive Rate')\n",
    "plt.xlabel('False Positive Rate')\n",
    "plt.show()"
   ]
  },
  {
   "cell_type": "markdown",
   "metadata": {
    "id": "lVEMP3mdZml5"
   },
   "source": [
    "###Approach #2: Decision Tree"
   ]
  },
  {
   "cell_type": "markdown",
   "metadata": {
    "id": "nxSvTuiF17AW"
   },
   "source": [
    "A decision tree is a predictive model expressed as a recursive partition of the feature space to subspaces that constitute a basis for prediction (Rokach, 2016). A decision tree is rooted directed tree. In decision trees, nodes with outgoing edges are the internal nodes. All other nodes are terminal nodes or leaves of the decision tree. Decision trees classify using a set of hierarchical decisions on the features.\n",
    "\n",
    "At the beginning, we could apply the decision tree for the naive training data set without any hyper-parameter tuning, the accuracy of decision tree is 0.5203; the Roc Auc of the decision tree is 0.5196; the loss of decision tree is 0.4796. The Roc AUC plot is shown as below, but base on the ROC AUC score, the performance is not as we expected, thus tuning pyther-parameters is necessary here. With the 5 folds cross validation, it suggests using entropy as the criterion, minimum leaf equals to 10, and the maximum depth equals to 20, the accuracy of decision tree is 0.5527; the ROC AUC of the decision tree is 0.5624; the loss of decision tree is 0.4472. Also from the ROC AUC curve plot, we could see that after tuning the hyper-parameters, the ROC AUC could not been improved a lot, therefore we should consider the some other methods to improve the accuracy. "
   ]
  },
  {
   "cell_type": "code",
   "execution_count": 26,
   "metadata": {
    "id": "kIyazW8ZZs8h"
   },
   "outputs": [],
   "source": [
    "from sklearn import tree\n",
    "decision_tree = tree.DecisionTreeClassifier(ccp_alpha=0.0, class_weight=None, criterion='entropy',\n",
    "                       max_depth=20, max_features=None, max_leaf_nodes=None,\n",
    "                       min_impurity_decrease=0.0,\n",
    "                       min_samples_leaf=10, min_samples_split=2,\n",
    "                       min_weight_fraction_leaf=0.0,\n",
    "                       random_state=None, splitter='best')\n",
    "decision_tree = decision_tree.fit(trainX, trainY)\n"
   ]
  },
  {
   "cell_type": "code",
   "execution_count": 27,
   "metadata": {
    "id": "Quvd-tF0aUvZ"
   },
   "outputs": [],
   "source": [
    "predY = decision_tree.predict(testX) > 0.5"
   ]
  },
  {
   "cell_type": "code",
   "execution_count": 28,
   "metadata": {
    "colab": {
     "base_uri": "https://localhost:8080/"
    },
    "id": "Eq67B541abef",
    "outputId": "e4ac182b-3a93-4b95-f699-373729370436"
   },
   "outputs": [
    {
     "name": "stdout",
     "output_type": "stream",
     "text": [
      "loss of Decision Tree: 0.4482758620689655\n",
      "accuracy of Decision Tree: 0.5517241379310345\n",
      "roc auc score of Decision Tree: 0.5617788869343703\n"
     ]
    }
   ],
   "source": [
    "print(\"loss of Decision Tree:\", zero_one_loss(testY, predY))\n",
    "print(\"accuracy of Decision Tree:\", accuracy_score(testY, predY))\n",
    "print(\"roc auc score of Decision Tree:\",roc_auc_score(testY, decision_tree.predict_proba(testX)[:,1]))"
   ]
  },
  {
   "cell_type": "code",
   "execution_count": 29,
   "metadata": {
    "colab": {
     "base_uri": "https://localhost:8080/",
     "height": 295
    },
    "id": "h6hq0v5RmCjZ",
    "outputId": "9df2c484-b090-4035-a3f3-bcd962ab82e9"
   },
   "outputs": [
    {
     "data": {
      "image/png": "[encoded data removed]",
      "text/plain": [
       "<Figure size 432x288 with 1 Axes>"
      ]
     },
     "metadata": {
      "needs_background": "light"
     },
     "output_type": "display_data"
    }
   ],
   "source": [
    "import scipy\n",
    "from sklearn.tree import DecisionTreeClassifier\n",
    "from sklearn.ensemble import RandomForestClassifier\n",
    "from sklearn.datasets import make_classification\n",
    "from sklearn.model_selection import train_test_split, cross_val_score, GridSearchCV\n",
    "from sklearn.metrics import roc_curve, auc, roc_auc_score\n",
    "\n",
    "predictions_validation = decision_tree.predict_proba(testX)[:,1]\n",
    "fpr, tpr, _ = roc_curve(testY, predictions_validation)\n",
    "roc_auc = auc(fpr, tpr)\n",
    "plt.title('ROC Validation of the Decision Tree')\n",
    "plt.plot(fpr, tpr, 'b', label='AUC = %0.2f' % roc_auc)\n",
    "plt.legend(loc='lower right')\n",
    "plt.plot([0, 1], [0, 1], 'r--')\n",
    "plt.xlim([0, 1])\n",
    "plt.ylim([0, 1])\n",
    "plt.ylabel('True Positive Rate')\n",
    "plt.xlabel('False Positive Rate')\n",
    "plt.show()"
   ]
  },
  {
   "cell_type": "code",
   "execution_count": 35,
   "metadata": {
    "colab": {
     "base_uri": "https://localhost:8080/"
    },
    "id": "AV49VyjorqgI",
    "outputId": "544c92f7-82fd-4f65-f4e0-968067174c9a"
   },
   "outputs": [
    {
     "name": "stdout",
     "output_type": "stream",
     "text": [
      "Fitting 5 folds for each of 72 candidates, totalling 360 fits\n",
      "{'criterion': 'entropy', 'max_depth': 20, 'min_samples_leaf': 8} 0.550162470189741 DecisionTreeClassifier(criterion='entropy', max_depth=20, min_samples_leaf=8)\n",
      "roc auc score of Decision Tree with the best estimator: 0.5631680416841681\n",
      "loss of Decision with the best estimator: 0.44536182612918895\n",
      "accuracy of Decision Tree with the best estimator: 0.554638173870811\n"
     ]
    }
   ],
   "source": [
    "param = {'criterion':['gini','entropy'],\n",
    "         'max_depth':range(10,100,10),\n",
    "         'min_samples_leaf':[5,6,7,8],\n",
    "         }\n",
    "gsearch_DCS = GridSearchCV(estimator = DecisionTreeClassifier(), \n",
    "                        param_grid = param, \n",
    "                        scoring='accuracy',\n",
    "                        cv=5,\n",
    "                        verbose =1)\n",
    "gsearch_DCS.fit(trainX,trainY)\n",
    "print(gsearch_DCS.best_params_, gsearch_DCS.best_score_, gsearch_DCS.best_estimator_)\n",
    "print(\"roc auc score of Decision Tree with the best estimator:\",roc_auc_score(testY, gsearch_DCS.best_estimator_.predict_proba(testX)[:,1]))\n",
    "print(\"loss of Decision with the best estimator:\", zero_one_loss(testY, gsearch_DCS.best_estimator_.predict(testX)))\n",
    "print(\"accuracy of Decision Tree with the best estimator:\", accuracy_score(testY, gsearch_DCS.best_estimator_.predict(testX)))"
   ]
  },
  {
   "cell_type": "code",
   "execution_count": 36,
   "metadata": {
    "colab": {
     "base_uri": "https://localhost:8080/",
     "height": 295
    },
    "id": "P3XhKA84NoHh",
    "outputId": "d0d945d4-2c3b-4222-d625-506cea232784"
   },
   "outputs": [
    {
     "data": {
      "image/png": "[encoded data removed]",
      "text/plain": [
       "<Figure size 640x480 with 1 Axes>"
      ]
     },
     "metadata": {},
     "output_type": "display_data"
    }
   ],
   "source": [
    "predictions_validation = gsearch_DCS.best_estimator_.predict_proba(testX)[:,1]\n",
    "fpr, tpr, _ = roc_curve(testY, predictions_validation)\n",
    "roc_auc = auc(fpr, tpr)\n",
    "plt.title('ROC Validation of the Decision Tree after fine tuning')\n",
    "plt.plot(fpr, tpr, 'b', label='AUC = %0.3f' % roc_auc)\n",
    "plt.legend(loc='lower right')\n",
    "plt.plot([0, 1], [0, 1], 'r--')\n",
    "plt.xlim([0, 1])\n",
    "plt.ylim([0, 1])\n",
    "plt.ylabel('True Positive Rate')\n",
    "plt.xlabel('False Positive Rate')\n",
    "plt.show()"
   ]
  },
  {
   "cell_type": "markdown",
   "metadata": {
    "id": "YTRTD50Nai60"
   },
   "source": [
    "###Approach #3: Random Forest"
   ]
  },
  {
   "cell_type": "markdown",
   "metadata": {
    "id": "0a176g1alsrz"
   },
   "source": [
    "Random forest is a flexible, easy to use machine learning algorithm that produces, even without hyper-parameter tuning, a great result most of the time. It is also one of the most used algorithms, because of its simplicity and diversity. Further, it can be used for both classification and regression tasks. \n",
    "\n",
    "At the beginning, we could apply the random forest for the naive training data set without any hyper-parameter tuning, the accuracy of Random Forest is 0.5198; the Roc Auc of the random forest is 0.5405; the loss of Random Forest is 0.4801. The Roc AUC plot is shown as below, but base on the ROC AUC score, the performance is not as we expected, thus tuning pyther-parameters is necessary here. With the 5 folds cross validation, it suggests that when we apply 525 estimators, minimum leaf equals to 20, and the maximum depth equals to 35, the accuracy of Random Forest is 0.5944; the ROC AUC of the random forest is 0.6274; the loss of Random Forest is 0.4084. Also from the ROC AUC curve plot, we could see that after tuning the hyper-parameters, the ROC AUC was been improved somehow. Futhermore, based on the cross validation score, there is no evidence that this random forest model is overfitted. \n"
   ]
  },
  {
   "cell_type": "code",
   "execution_count": 30,
   "metadata": {
    "id": "VXS4Z7Alan1v"
   },
   "outputs": [],
   "source": [
    "rfc = RandomForestClassifier(max_depth = 2, max_features = None)\n",
    "rfc.fit(trainX, trainY)\n",
    "predY = rfc.predict(testX) > 0.5\n"
   ]
  },
  {
   "cell_type": "code",
   "execution_count": 31,
   "metadata": {
    "colab": {
     "base_uri": "https://localhost:8080/"
    },
    "id": "3Tp7Tp0FJ1uU",
    "outputId": "a95c7fd5-6e0f-48c1-eb32-c29a45285923"
   },
   "outputs": [
    {
     "name": "stdout",
     "output_type": "stream",
     "text": [
      "roc auc score of Random Forest: 0.5338235556495015\n",
      "loss of Random Forest: 0.4801359883438563\n",
      "accuracy of Random Forest: 0.5198640116561437\n"
     ]
    }
   ],
   "source": [
    "print(\"roc auc score of Random Forest:\",roc_auc_score(testY, rfc.predict_proba(testX)[:,1]))\n",
    "print(\"loss of Random Forest:\", zero_one_loss(testY, predY))\n",
    "print(\"accuracy of Random Forest:\", accuracy_score(testY, predY))"
   ]
  },
  {
   "cell_type": "code",
   "execution_count": 32,
   "metadata": {
    "colab": {
     "base_uri": "https://localhost:8080/",
     "height": 295
    },
    "id": "-IpEKgeFMEcj",
    "outputId": "3392ea81-3237-4938-954a-84e1c74e1615"
   },
   "outputs": [
    {
     "data": {
      "image/png": "[encoded data removed]",
      "text/plain": [
       "<Figure size 432x288 with 1 Axes>"
      ]
     },
     "metadata": {
      "needs_background": "light"
     },
     "output_type": "display_data"
    }
   ],
   "source": [
    "predictions_validation = rfc.predict_proba(testX)[:,1]\n",
    "fpr, tpr, _ = roc_curve(testY, predictions_validation)\n",
    "roc_auc = auc(fpr, tpr)\n",
    "plt.title('Random Forest ROC Validation')\n",
    "plt.plot(fpr, tpr, 'b', label='AUC = %0.3f' % roc_auc)\n",
    "plt.legend(loc='lower right')\n",
    "plt.plot([0, 1], [0, 1], 'r--')\n",
    "plt.xlim([0, 1])\n",
    "plt.ylim([0, 1])\n",
    "plt.ylabel('True Positive Rate')\n",
    "plt.xlabel('False Positive Rate')\n",
    "plt.show()"
   ]
  },
  {
   "cell_type": "code",
   "execution_count": 33,
   "metadata": {
    "id": "1ed2bAO4QbHd"
   },
   "outputs": [
    {
     "name": "stdout",
     "output_type": "stream",
     "text": [
      "{'max_depth': 35} 0.5853921448727694\n"
     ]
    }
   ],
   "source": [
    "param_test3 = {'max_depth':range(25, 40, 5)}\n",
    "gsearch3 = GridSearchCV(estimator = RandomForestClassifier(n_estimators=525, \n",
    "                                                           min_samples_leaf=10,\n",
    "                                                           random_state=10), \n",
    "                        param_grid = param_test3, \n",
    "                        scoring='accuracy',\n",
    "                        cv=5)\n",
    "gsearch3.fit(trainX,trainY)\n",
    "print(gsearch3.best_params_, gsearch3.best_score_)"
   ]
  },
  {
   "cell_type": "code",
   "execution_count": 34,
   "metadata": {
    "colab": {
     "base_uri": "https://localhost:8080/"
    },
    "id": "Iga0Jeq6W9Ab",
    "outputId": "cc097b83-72e8-4f84-d346-65fdd76e276f"
   },
   "outputs": [
    {
     "name": "stdout",
     "output_type": "stream",
     "text": [
      "roc auc score of Random Forest with the best estimator: 0.6271541159653533\n",
      "loss of Random Forest with the best estimator: 0.4053423992229237\n",
      "accuracy of Random Forest with the best estimator: 0.5946576007770763\n"
     ]
    }
   ],
   "source": [
    "print(\"roc auc score of Random Forest with the best estimator:\",roc_auc_score(testY, gsearch3.best_estimator_.predict_proba(testX)[:,1]))\n",
    "print(\"loss of Random Forest with the best estimator:\", zero_one_loss(testY, gsearch3.best_estimator_.predict(testX)))\n",
    "print(\"accuracy of Random Forest with the best estimator:\", accuracy_score(testY, gsearch3.best_estimator_.predict(testX)))"
   ]
  },
  {
   "cell_type": "code",
   "execution_count": 35,
   "metadata": {
    "colab": {
     "base_uri": "https://localhost:8080/",
     "height": 295
    },
    "id": "yiLx0bMoXBAG",
    "outputId": "ec0c6b45-9c6e-4651-bd8e-d6aa5b69f294"
   },
   "outputs": [
    {
     "data": {
      "image/png": "[encoded data removed]",
      "text/plain": [
       "<Figure size 432x288 with 1 Axes>"
      ]
     },
     "metadata": {
      "needs_background": "light"
     },
     "output_type": "display_data"
    }
   ],
   "source": [
    "predictions_validation = gsearch3.best_estimator_.predict_proba(testX)[:,1]\n",
    "fpr, tpr, _ = roc_curve(testY, predictions_validation)\n",
    "roc_auc = auc(fpr, tpr)\n",
    "plt.title('Random Forest ROC Validation after tuning')\n",
    "plt.plot(fpr, tpr, 'b', label='AUC = %0.3f' % roc_auc)\n",
    "plt.legend(loc='lower right')\n",
    "plt.plot([0, 1], [0, 1], 'r--')\n",
    "plt.xlim([0, 1])\n",
    "plt.ylim([0, 1])\n",
    "plt.ylabel('True Positive Rate')\n",
    "plt.xlabel('False Positive Rate')\n",
    "plt.show()"
   ]
  },
  {
   "cell_type": "code",
   "execution_count": 36,
   "metadata": {
    "colab": {
     "base_uri": "https://localhost:8080/"
    },
    "id": "gRDECMjjP96R",
    "outputId": "1923cc82-a350-4d95-b65b-982ff8023c99"
   },
   "outputs": [
    {
     "name": "stdout",
     "output_type": "stream",
     "text": [
      "0.5853921448727694\n"
     ]
    }
   ],
   "source": [
    "## Random Forest Cross Validation\n",
    "clf_rfc = RandomForestClassifier(n_estimators=525, max_depth=35,min_samples_leaf=10, random_state=10)\n",
    "scores = cross_val_score(clf_rfc, trainX, trainY)\n",
    "print(scores.mean())"
   ]
  },
  {
   "cell_type": "markdown",
   "metadata": {
    "id": "kuz1dvRrbYFf"
   },
   "source": [
    "###Approach #4: Neural Network"
   ]
  },
  {
   "cell_type": "markdown",
   "metadata": {},
   "source": [
    "neural networks can be a powerful tool for machine learning projects that involve complex data and require a high degree of accuracy in predictions or classifications. Neural networks can adapt and improve over time as they are trained on more data. This means that as your Dota 2 project receives more data, the neural network can become more accurate and better at predicting outcomes."
   ]
  },
  {
   "cell_type": "code",
   "execution_count": 37,
   "metadata": {
    "id": "891I4xK8bb4v"
   },
   "outputs": [
    {
     "name": "stdout",
     "output_type": "stream",
     "text": [
      "Using device: cpu\n",
      "\n"
     ]
    },
    {
     "name": "stderr",
     "output_type": "stream",
     "text": [
      "<ipython-input-37-d25a781fd965>:62: UserWarning: Implicit dimension choice for softmax has been deprecated. Change the call to include dim=X as an argument.\n",
      "  out = self.pred(x)\n"
     ]
    },
    {
     "name": "stdout",
     "output_type": "stream",
     "text": [
      "train loss when 0 = 0.6775965094566345\n",
      "tensor([[0.3956, 0.6044],\n",
      "        [0.4101, 0.5899],\n",
      "        [0.4682, 0.5318]])\n",
      "tensor([1, 1, 0])\n",
      "test loss: tensor(0.6806)\n",
      "AUC score: 0.5554189395884381\n",
      "accuracy of NN: 0.5689169499757164\n"
     ]
    },
    {
     "name": "stderr",
     "output_type": "stream",
     "text": [
      "<ipython-input-37-d25a781fd965>:62: UserWarning: Implicit dimension choice for softmax has been deprecated. Change the call to include dim=X as an argument.\n",
      "  out = self.pred(x)\n"
     ]
    },
    {
     "name": "stdout",
     "output_type": "stream",
     "text": [
      "train loss when 10 = 0.6495445370674133\n",
      "tensor([[0.4016, 0.5984],\n",
      "        [0.2143, 0.7857],\n",
      "        [0.6720, 0.3280]])\n",
      "tensor([1, 1, 0])\n",
      "test loss: tensor(0.6644)\n",
      "AUC score: 0.5986812631109749\n",
      "accuracy of NN: 0.5979601748421564\n"
     ]
    },
    {
     "name": "stderr",
     "output_type": "stream",
     "text": [
      "<ipython-input-37-d25a781fd965>:62: UserWarning: Implicit dimension choice for softmax has been deprecated. Change the call to include dim=X as an argument.\n",
      "  out = self.pred(x)\n"
     ]
    },
    {
     "name": "stdout",
     "output_type": "stream",
     "text": [
      "train loss when 20 = 0.6374441981315613\n",
      "tensor([[0.4157, 0.5843],\n",
      "        [0.2055, 0.7945],\n",
      "        [0.6550, 0.3450]])\n",
      "tensor([1, 1, 0])\n",
      "test loss: tensor(0.6632)\n",
      "AUC score: 0.6023887942877654\n",
      "accuracy of NN: 0.6032054395337543\n"
     ]
    },
    {
     "name": "stderr",
     "output_type": "stream",
     "text": [
      "<ipython-input-37-d25a781fd965>:62: UserWarning: Implicit dimension choice for softmax has been deprecated. Change the call to include dim=X as an argument.\n",
      "  out = self.pred(x)\n"
     ]
    },
    {
     "name": "stdout",
     "output_type": "stream",
     "text": [
      "train loss when 30 = 0.6813036799430847\n",
      "tensor([[0.4324, 0.5676],\n",
      "        [0.1981, 0.8019],\n",
      "        [0.6281, 0.3719]])\n",
      "tensor([1, 1, 0])\n",
      "test loss: tensor(0.6634)\n",
      "AUC score: 0.603011381316515\n",
      "accuracy of NN: 0.6049538610976202\n"
     ]
    },
    {
     "name": "stderr",
     "output_type": "stream",
     "text": [
      "<ipython-input-37-d25a781fd965>:62: UserWarning: Implicit dimension choice for softmax has been deprecated. Change the call to include dim=X as an argument.\n",
      "  out = self.pred(x)\n"
     ]
    },
    {
     "name": "stdout",
     "output_type": "stream",
     "text": [
      "train loss when 40 = 0.6945715546607971\n",
      "tensor([[0.3890, 0.6110],\n",
      "        [0.1635, 0.8365],\n",
      "        [0.6267, 0.3733]])\n",
      "tensor([1, 1, 0])\n",
      "test loss: tensor(0.6629)\n",
      "AUC score: 0.6002842153917892\n",
      "accuracy of NN: 0.6029140359397765\n"
     ]
    },
    {
     "name": "stderr",
     "output_type": "stream",
     "text": [
      "<ipython-input-37-d25a781fd965>:62: UserWarning: Implicit dimension choice for softmax has been deprecated. Change the call to include dim=X as an argument.\n",
      "  out = self.pred(x)\n"
     ]
    },
    {
     "name": "stdout",
     "output_type": "stream",
     "text": [
      "train loss when 50 = 0.6605794429779053\n",
      "tensor([[0.4001, 0.5999],\n",
      "        [0.1966, 0.8034],\n",
      "        [0.6265, 0.3735]])\n",
      "tensor([1, 1, 0])\n",
      "test loss: tensor(0.6631)\n",
      "AUC score: 0.5990432182485719\n",
      "accuracy of NN: 0.6011656143759107\n"
     ]
    },
    {
     "name": "stderr",
     "output_type": "stream",
     "text": [
      "<ipython-input-37-d25a781fd965>:62: UserWarning: Implicit dimension choice for softmax has been deprecated. Change the call to include dim=X as an argument.\n",
      "  out = self.pred(x)\n"
     ]
    },
    {
     "name": "stdout",
     "output_type": "stream",
     "text": [
      "train loss when 60 = 0.6620104908943176\n",
      "tensor([[0.3310, 0.6690],\n",
      "        [0.1377, 0.8623],\n",
      "        [0.5334, 0.4666]])\n",
      "tensor([1, 1, 0])\n",
      "test loss: tensor(0.6644)\n",
      "AUC score: 0.5933690975476184\n",
      "accuracy of NN: 0.6\n"
     ]
    },
    {
     "name": "stderr",
     "output_type": "stream",
     "text": [
      "<ipython-input-37-d25a781fd965>:62: UserWarning: Implicit dimension choice for softmax has been deprecated. Change the call to include dim=X as an argument.\n",
      "  out = self.pred(x)\n"
     ]
    },
    {
     "name": "stdout",
     "output_type": "stream",
     "text": [
      "train loss when 70 = 0.6525260806083679\n",
      "tensor([[0.4055, 0.5945],\n",
      "        [0.1928, 0.8072],\n",
      "        [0.6375, 0.3625]])\n",
      "tensor([1, 1, 0])\n",
      "test loss: tensor(0.6632)\n",
      "AUC score: 0.6015417878916812\n",
      "accuracy of NN: 0.6036911121903836\n"
     ]
    },
    {
     "name": "stderr",
     "output_type": "stream",
     "text": [
      "<ipython-input-37-d25a781fd965>:62: UserWarning: Implicit dimension choice for softmax has been deprecated. Change the call to include dim=X as an argument.\n",
      "  out = self.pred(x)\n"
     ]
    },
    {
     "name": "stdout",
     "output_type": "stream",
     "text": [
      "train loss when 80 = 0.6920644640922546\n",
      "tensor([[0.3377, 0.6623],\n",
      "        [0.1626, 0.8374],\n",
      "        [0.5659, 0.4341]])\n",
      "tensor([1, 1, 0])\n",
      "test loss: tensor(0.6635)\n",
      "AUC score: 0.5990328043129645\n",
      "accuracy of NN: 0.6041767848470131\n"
     ]
    },
    {
     "name": "stderr",
     "output_type": "stream",
     "text": [
      "<ipython-input-37-d25a781fd965>:62: UserWarning: Implicit dimension choice for softmax has been deprecated. Change the call to include dim=X as an argument.\n",
      "  out = self.pred(x)\n"
     ]
    },
    {
     "name": "stdout",
     "output_type": "stream",
     "text": [
      "train loss when 90 = 0.6529505252838135\n",
      "tensor([[0.4200, 0.5800],\n",
      "        [0.2204, 0.7796],\n",
      "        [0.6632, 0.3368]])\n",
      "tensor([1, 1, 0])\n",
      "test loss: tensor(0.6635)\n",
      "AUC score: 0.6027907608621695\n",
      "accuracy of NN: 0.6032054395337543\n"
     ]
    },
    {
     "name": "stderr",
     "output_type": "stream",
     "text": [
      "<ipython-input-37-d25a781fd965>:62: UserWarning: Implicit dimension choice for softmax has been deprecated. Change the call to include dim=X as an argument.\n",
      "  out = self.pred(x)\n"
     ]
    },
    {
     "name": "stdout",
     "output_type": "stream",
     "text": [
      "train loss when 100 = 0.6402334570884705\n",
      "tensor([[0.3395, 0.6605],\n",
      "        [0.1502, 0.8498],\n",
      "        [0.5493, 0.4507]])\n",
      "tensor([1, 1, 0])\n",
      "test loss: tensor(0.6638)\n",
      "AUC score: 0.5934958791811101\n",
      "accuracy of NN: 0.5993200582807188\n"
     ]
    },
    {
     "name": "stderr",
     "output_type": "stream",
     "text": [
      "<ipython-input-37-d25a781fd965>:62: UserWarning: Implicit dimension choice for softmax has been deprecated. Change the call to include dim=X as an argument.\n",
      "  out = self.pred(x)\n"
     ]
    },
    {
     "name": "stdout",
     "output_type": "stream",
     "text": [
      "train loss when 110 = 0.6537400484085083\n",
      "tensor([[0.4271, 0.5729],\n",
      "        [0.2003, 0.7997],\n",
      "        [0.6620, 0.3380]])\n",
      "tensor([1, 1, 0])\n",
      "test loss: tensor(0.6641)\n",
      "AUC score: 0.6007862578083728\n",
      "accuracy of NN: 0.6005828071879553\n"
     ]
    },
    {
     "name": "stderr",
     "output_type": "stream",
     "text": [
      "<ipython-input-37-d25a781fd965>:62: UserWarning: Implicit dimension choice for softmax has been deprecated. Change the call to include dim=X as an argument.\n",
      "  out = self.pred(x)\n"
     ]
    },
    {
     "name": "stdout",
     "output_type": "stream",
     "text": [
      "train loss when 120 = 0.6548957228660583\n",
      "tensor([[0.3443, 0.6557],\n",
      "        [0.1550, 0.8450],\n",
      "        [0.5557, 0.4443]])\n",
      "tensor([1, 1, 0])\n",
      "test loss: tensor(0.6635)\n",
      "AUC score: 0.596782260217904\n",
      "accuracy of NN: 0.601748421563866\n"
     ]
    },
    {
     "name": "stderr",
     "output_type": "stream",
     "text": [
      "<ipython-input-37-d25a781fd965>:62: UserWarning: Implicit dimension choice for softmax has been deprecated. Change the call to include dim=X as an argument.\n",
      "  out = self.pred(x)\n"
     ]
    },
    {
     "name": "stdout",
     "output_type": "stream",
     "text": [
      "train loss when 130 = 0.6433831453323364\n",
      "tensor([[0.3898, 0.6102],\n",
      "        [0.1898, 0.8102],\n",
      "        [0.6191, 0.3809]])\n",
      "tensor([1, 1, 0])\n",
      "test loss: tensor(0.6632)\n",
      "AUC score: 0.6023342298011986\n",
      "accuracy of NN: 0.604273919378339\n"
     ]
    },
    {
     "name": "stderr",
     "output_type": "stream",
     "text": [
      "<ipython-input-37-d25a781fd965>:62: UserWarning: Implicit dimension choice for softmax has been deprecated. Change the call to include dim=X as an argument.\n",
      "  out = self.pred(x)\n"
     ]
    },
    {
     "name": "stdout",
     "output_type": "stream",
     "text": [
      "train loss when 140 = 0.6650276780128479\n",
      "tensor([[0.3656, 0.6344],\n",
      "        [0.1513, 0.8487],\n",
      "        [0.5665, 0.4335]])\n",
      "tensor([1, 1, 0])\n",
      "test loss: tensor(0.6636)\n",
      "AUC score: 0.5963023308769297\n",
      "accuracy of NN: 0.6016512870325401\n"
     ]
    },
    {
     "name": "stderr",
     "output_type": "stream",
     "text": [
      "<ipython-input-37-d25a781fd965>:62: UserWarning: Implicit dimension choice for softmax has been deprecated. Change the call to include dim=X as an argument.\n",
      "  out = self.pred(x)\n"
     ]
    },
    {
     "name": "stdout",
     "output_type": "stream",
     "text": [
      "train loss when 150 = 0.65631502866745\n",
      "tensor([[0.3541, 0.6459],\n",
      "        [0.1470, 0.8530],\n",
      "        [0.5585, 0.4415]])\n",
      "tensor([1, 1, 0])\n",
      "test loss: tensor(0.6633)\n",
      "AUC score: 0.597113332649907\n",
      "accuracy of NN: 0.6015541525012141\n"
     ]
    },
    {
     "name": "stderr",
     "output_type": "stream",
     "text": [
      "<ipython-input-37-d25a781fd965>:62: UserWarning: Implicit dimension choice for softmax has been deprecated. Change the call to include dim=X as an argument.\n",
      "  out = self.pred(x)\n"
     ]
    },
    {
     "name": "stdout",
     "output_type": "stream",
     "text": [
      "train loss when 160 = 0.6414645910263062\n",
      "tensor([[0.3837, 0.6163],\n",
      "        [0.1679, 0.8321],\n",
      "        [0.5751, 0.4249]])\n",
      "tensor([1, 1, 0])\n",
      "test loss: tensor(0.6632)\n",
      "AUC score: 0.5999069701019122\n",
      "accuracy of NN: 0.604273919378339\n"
     ]
    },
    {
     "name": "stderr",
     "output_type": "stream",
     "text": [
      "<ipython-input-37-d25a781fd965>:62: UserWarning: Implicit dimension choice for softmax has been deprecated. Change the call to include dim=X as an argument.\n",
      "  out = self.pred(x)\n"
     ]
    },
    {
     "name": "stdout",
     "output_type": "stream",
     "text": [
      "train loss when 170 = 0.7075274586677551\n",
      "tensor([[0.3584, 0.6416],\n",
      "        [0.1403, 0.8597],\n",
      "        [0.5536, 0.4464]])\n",
      "tensor([1, 1, 0])\n",
      "test loss: tensor(0.6636)\n",
      "AUC score: 0.5943282947273054\n",
      "accuracy of NN: 0.6000971345313258\n"
     ]
    },
    {
     "name": "stderr",
     "output_type": "stream",
     "text": [
      "<ipython-input-37-d25a781fd965>:62: UserWarning: Implicit dimension choice for softmax has been deprecated. Change the call to include dim=X as an argument.\n",
      "  out = self.pred(x)\n"
     ]
    },
    {
     "name": "stdout",
     "output_type": "stream",
     "text": [
      "train loss when 180 = 0.6229890584945679\n",
      "tensor([[0.3717, 0.6283],\n",
      "        [0.1733, 0.8267],\n",
      "        [0.5964, 0.4036]])\n",
      "tensor([1, 1, 0])\n",
      "test loss: tensor(0.6631)\n",
      "AUC score: 0.5971795962764757\n",
      "accuracy of NN: 0.6010684798445848\n"
     ]
    },
    {
     "name": "stderr",
     "output_type": "stream",
     "text": [
      "<ipython-input-37-d25a781fd965>:62: UserWarning: Implicit dimension choice for softmax has been deprecated. Change the call to include dim=X as an argument.\n",
      "  out = self.pred(x)\n"
     ]
    },
    {
     "name": "stdout",
     "output_type": "stream",
     "text": [
      "train loss when 190 = 0.6616028547286987\n",
      "tensor([[0.3956, 0.6044],\n",
      "        [0.2019, 0.7981],\n",
      "        [0.6284, 0.3716]])\n",
      "tensor([1, 1, 0])\n",
      "test loss: tensor(0.6627)\n",
      "AUC score: 0.6019547921038251\n",
      "accuracy of NN: 0.6041767848470131\n"
     ]
    },
    {
     "name": "stderr",
     "output_type": "stream",
     "text": [
      "<ipython-input-37-d25a781fd965>:62: UserWarning: Implicit dimension choice for softmax has been deprecated. Change the call to include dim=X as an argument.\n",
      "  out = self.pred(x)\n"
     ]
    },
    {
     "name": "stdout",
     "output_type": "stream",
     "text": [
      "train loss when 200 = 0.6661949753761292\n",
      "tensor([[0.4137, 0.5863],\n",
      "        [0.1859, 0.8141],\n",
      "        [0.6215, 0.3785]])\n",
      "tensor([1, 1, 0])\n",
      "test loss: tensor(0.6631)\n",
      "AUC score: 0.6000024154282588\n",
      "accuracy of NN: 0.6012627489072365\n"
     ]
    },
    {
     "name": "stderr",
     "output_type": "stream",
     "text": [
      "<ipython-input-37-d25a781fd965>:62: UserWarning: Implicit dimension choice for softmax has been deprecated. Change the call to include dim=X as an argument.\n",
      "  out = self.pred(x)\n"
     ]
    },
    {
     "name": "stdout",
     "output_type": "stream",
     "text": [
      "train loss when 210 = 0.6500440239906311\n",
      "tensor([[0.3242, 0.6758],\n",
      "        [0.1385, 0.8615],\n",
      "        [0.5814, 0.4186]])\n",
      "tensor([1, 1, 0])\n",
      "test loss: tensor(0.6642)\n",
      "AUC score: 0.5926731782681312\n",
      "accuracy of NN: 0.5988343856240894\n"
     ]
    },
    {
     "name": "stderr",
     "output_type": "stream",
     "text": [
      "<ipython-input-37-d25a781fd965>:62: UserWarning: Implicit dimension choice for softmax has been deprecated. Change the call to include dim=X as an argument.\n",
      "  out = self.pred(x)\n"
     ]
    },
    {
     "name": "stdout",
     "output_type": "stream",
     "text": [
      "train loss when 220 = 0.6210047602653503\n",
      "tensor([[0.3933, 0.6067],\n",
      "        [0.1750, 0.8250],\n",
      "        [0.6211, 0.3789]])\n",
      "tensor([1, 1, 0])\n",
      "test loss: tensor(0.6632)\n",
      "AUC score: 0.5995555990005041\n",
      "accuracy of NN: 0.6026226323457989\n"
     ]
    },
    {
     "name": "stderr",
     "output_type": "stream",
     "text": [
      "<ipython-input-37-d25a781fd965>:62: UserWarning: Implicit dimension choice for softmax has been deprecated. Change the call to include dim=X as an argument.\n",
      "  out = self.pred(x)\n"
     ]
    },
    {
     "name": "stdout",
     "output_type": "stream",
     "text": [
      "train loss when 230 = 0.66354900598526\n",
      "tensor([[0.3783, 0.6217],\n",
      "        [0.1932, 0.8068],\n",
      "        [0.6200, 0.3800]])\n",
      "tensor([1, 1, 0])\n",
      "test loss: tensor(0.6630)\n",
      "AUC score: 0.6009819112773509\n",
      "accuracy of NN: 0.6032054395337543\n"
     ]
    },
    {
     "name": "stderr",
     "output_type": "stream",
     "text": [
      "<ipython-input-37-d25a781fd965>:62: UserWarning: Implicit dimension choice for softmax has been deprecated. Change the call to include dim=X as an argument.\n",
      "  out = self.pred(x)\n"
     ]
    },
    {
     "name": "stdout",
     "output_type": "stream",
     "text": [
      "train loss when 240 = 0.6914112567901611\n",
      "tensor([[0.2178, 0.7822],\n",
      "        [0.0857, 0.9143],\n",
      "        [0.4141, 0.5859]])\n",
      "tensor([1, 1, 0])\n",
      "test loss: tensor(0.6757)\n",
      "AUC score: 0.568769831837809\n",
      "accuracy of NN: 0.5815444390480816\n"
     ]
    },
    {
     "name": "stderr",
     "output_type": "stream",
     "text": [
      "<ipython-input-37-d25a781fd965>:62: UserWarning: Implicit dimension choice for softmax has been deprecated. Change the call to include dim=X as an argument.\n",
      "  out = self.pred(x)\n"
     ]
    },
    {
     "name": "stdout",
     "output_type": "stream",
     "text": [
      "train loss when 250 = 0.6918378472328186\n",
      "tensor([[0.3144, 0.6856],\n",
      "        [0.1334, 0.8666],\n",
      "        [0.5420, 0.4580]])\n",
      "tensor([1, 1, 0])\n",
      "test loss: tensor(0.6650)\n",
      "AUC score: 0.5892715068371361\n",
      "accuracy of NN: 0.5965031568722681\n"
     ]
    },
    {
     "name": "stderr",
     "output_type": "stream",
     "text": [
      "<ipython-input-37-d25a781fd965>:62: UserWarning: Implicit dimension choice for softmax has been deprecated. Change the call to include dim=X as an argument.\n",
      "  out = self.pred(x)\n"
     ]
    },
    {
     "name": "stdout",
     "output_type": "stream",
     "text": [
      "train loss when 260 = 0.6394407153129578\n",
      "tensor([[0.4443, 0.5557],\n",
      "        [0.2026, 0.7974],\n",
      "        [0.6441, 0.3559]])\n",
      "tensor([1, 1, 0])\n",
      "test loss: tensor(0.6634)\n",
      "AUC score: 0.6013443578166282\n",
      "accuracy of NN: 0.6019426906265177\n"
     ]
    },
    {
     "name": "stderr",
     "output_type": "stream",
     "text": [
      "<ipython-input-37-d25a781fd965>:62: UserWarning: Implicit dimension choice for softmax has been deprecated. Change the call to include dim=X as an argument.\n",
      "  out = self.pred(x)\n"
     ]
    },
    {
     "name": "stdout",
     "output_type": "stream",
     "text": [
      "train loss when 270 = 0.686988115310669\n",
      "tensor([[0.3209, 0.6791],\n",
      "        [0.1301, 0.8699],\n",
      "        [0.5471, 0.4529]])\n",
      "tensor([1, 1, 0])\n",
      "test loss: tensor(0.6657)\n",
      "AUC score: 0.5891356720726899\n",
      "accuracy of NN: 0.5969888295288975\n"
     ]
    },
    {
     "name": "stderr",
     "output_type": "stream",
     "text": [
      "<ipython-input-37-d25a781fd965>:62: UserWarning: Implicit dimension choice for softmax has been deprecated. Change the call to include dim=X as an argument.\n",
      "  out = self.pred(x)\n"
     ]
    },
    {
     "name": "stdout",
     "output_type": "stream",
     "text": [
      "train loss when 280 = 0.6708045601844788\n",
      "tensor([[0.3513, 0.6487],\n",
      "        [0.1576, 0.8424],\n",
      "        [0.5640, 0.4360]])\n",
      "tensor([1, 1, 0])\n",
      "test loss: tensor(0.6634)\n",
      "AUC score: 0.5988059846374227\n",
      "accuracy of NN: 0.6037882467217096\n"
     ]
    },
    {
     "name": "stderr",
     "output_type": "stream",
     "text": [
      "<ipython-input-37-d25a781fd965>:62: UserWarning: Implicit dimension choice for softmax has been deprecated. Change the call to include dim=X as an argument.\n",
      "  out = self.pred(x)\n"
     ]
    },
    {
     "name": "stdout",
     "output_type": "stream",
     "text": [
      "train loss when 290 = 0.6562148928642273\n",
      "tensor([[0.3261, 0.6739],\n",
      "        [0.1572, 0.8428],\n",
      "        [0.5610, 0.4390]])\n",
      "tensor([1, 1, 0])\n",
      "test loss: tensor(0.6643)\n",
      "AUC score: 0.5911810559662666\n",
      "accuracy of NN: 0.5976687712481787\n"
     ]
    },
    {
     "name": "stderr",
     "output_type": "stream",
     "text": [
      "<ipython-input-37-d25a781fd965>:62: UserWarning: Implicit dimension choice for softmax has been deprecated. Change the call to include dim=X as an argument.\n",
      "  out = self.pred(x)\n"
     ]
    },
    {
     "name": "stdout",
     "output_type": "stream",
     "text": [
      "train loss when 300 = 0.6368001103401184\n",
      "tensor([[0.4451, 0.5549],\n",
      "        [0.2202, 0.7798],\n",
      "        [0.6597, 0.3403]])\n",
      "tensor([1, 1, 0])\n",
      "test loss: tensor(0.6640)\n",
      "AUC score: 0.6015181817109669\n",
      "accuracy of NN: 0.6013598834385624\n"
     ]
    },
    {
     "name": "stderr",
     "output_type": "stream",
     "text": [
      "<ipython-input-37-d25a781fd965>:62: UserWarning: Implicit dimension choice for softmax has been deprecated. Change the call to include dim=X as an argument.\n",
      "  out = self.pred(x)\n"
     ]
    },
    {
     "name": "stdout",
     "output_type": "stream",
     "text": [
      "train loss when 310 = 0.6496240496635437\n",
      "tensor([[0.3157, 0.6843],\n",
      "        [0.1434, 0.8566],\n",
      "        [0.5412, 0.4588]])\n",
      "tensor([1, 1, 0])\n",
      "test loss: tensor(0.6645)\n",
      "AUC score: 0.5914626480290861\n",
      "accuracy of NN: 0.5981544439048082\n"
     ]
    },
    {
     "name": "stderr",
     "output_type": "stream",
     "text": [
      "<ipython-input-37-d25a781fd965>:62: UserWarning: Implicit dimension choice for softmax has been deprecated. Change the call to include dim=X as an argument.\n",
      "  out = self.pred(x)\n"
     ]
    },
    {
     "name": "stdout",
     "output_type": "stream",
     "text": [
      "train loss when 320 = 0.679058313369751\n",
      "tensor([[0.3592, 0.6408],\n",
      "        [0.1686, 0.8314],\n",
      "        [0.6175, 0.3825]])\n",
      "tensor([1, 1, 0])\n",
      "test loss: tensor(0.6630)\n",
      "AUC score: 0.5980809214582867\n",
      "accuracy of NN: 0.601748421563866\n"
     ]
    },
    {
     "name": "stderr",
     "output_type": "stream",
     "text": [
      "<ipython-input-37-d25a781fd965>:62: UserWarning: Implicit dimension choice for softmax has been deprecated. Change the call to include dim=X as an argument.\n",
      "  out = self.pred(x)\n"
     ]
    },
    {
     "name": "stdout",
     "output_type": "stream",
     "text": [
      "train loss when 330 = 0.6764827370643616\n",
      "tensor([[0.4783, 0.5217],\n",
      "        [0.2324, 0.7676],\n",
      "        [0.6879, 0.3121]])\n",
      "tensor([1, 1, 0])\n",
      "test loss: tensor(0.6658)\n",
      "AUC score: 0.595394466272759\n",
      "accuracy of NN: 0.5932005828071879\n"
     ]
    },
    {
     "name": "stderr",
     "output_type": "stream",
     "text": [
      "<ipython-input-37-d25a781fd965>:62: UserWarning: Implicit dimension choice for softmax has been deprecated. Change the call to include dim=X as an argument.\n",
      "  out = self.pred(x)\n"
     ]
    },
    {
     "name": "stdout",
     "output_type": "stream",
     "text": [
      "train loss when 340 = 0.7127914428710938\n",
      "tensor([[0.3052, 0.6948],\n",
      "        [0.1483, 0.8517],\n",
      "        [0.5308, 0.4692]])\n",
      "tensor([1, 1, 0])\n",
      "test loss: tensor(0.6646)\n",
      "AUC score: 0.5918827208653992\n",
      "accuracy of NN: 0.5985429820301117\n"
     ]
    },
    {
     "name": "stderr",
     "output_type": "stream",
     "text": [
      "<ipython-input-37-d25a781fd965>:62: UserWarning: Implicit dimension choice for softmax has been deprecated. Change the call to include dim=X as an argument.\n",
      "  out = self.pred(x)\n"
     ]
    },
    {
     "name": "stdout",
     "output_type": "stream",
     "text": [
      "train loss when 350 = 0.6686543822288513\n",
      "tensor([[0.4350, 0.5650],\n",
      "        [0.2202, 0.7798],\n",
      "        [0.6577, 0.3423]])\n",
      "tensor([1, 1, 0])\n",
      "test loss: tensor(0.6645)\n",
      "AUC score: 0.5975434036204057\n",
      "accuracy of NN: 0.5966002914035939\n"
     ]
    },
    {
     "name": "stderr",
     "output_type": "stream",
     "text": [
      "<ipython-input-37-d25a781fd965>:62: UserWarning: Implicit dimension choice for softmax has been deprecated. Change the call to include dim=X as an argument.\n",
      "  out = self.pred(x)\n"
     ]
    },
    {
     "name": "stdout",
     "output_type": "stream",
     "text": [
      "train loss when 360 = 0.701460599899292\n",
      "tensor([[0.4101, 0.5899],\n",
      "        [0.1853, 0.8147],\n",
      "        [0.6236, 0.3764]])\n",
      "tensor([1, 1, 0])\n",
      "test loss: tensor(0.6632)\n",
      "AUC score: 0.6030937666982071\n",
      "accuracy of NN: 0.6045653229723167\n"
     ]
    },
    {
     "name": "stderr",
     "output_type": "stream",
     "text": [
      "<ipython-input-37-d25a781fd965>:62: UserWarning: Implicit dimension choice for softmax has been deprecated. Change the call to include dim=X as an argument.\n",
      "  out = self.pred(x)\n"
     ]
    },
    {
     "name": "stdout",
     "output_type": "stream",
     "text": [
      "train loss when 370 = 0.7020200490951538\n",
      "tensor([[0.4452, 0.5548],\n",
      "        [0.2108, 0.7892],\n",
      "        [0.6794, 0.3206]])\n",
      "tensor([1, 1, 0])\n",
      "test loss: tensor(0.6640)\n",
      "AUC score: 0.6000079531471935\n",
      "accuracy of NN: 0.5998057309373482\n"
     ]
    },
    {
     "name": "stderr",
     "output_type": "stream",
     "text": [
      "<ipython-input-37-d25a781fd965>:62: UserWarning: Implicit dimension choice for softmax has been deprecated. Change the call to include dim=X as an argument.\n",
      "  out = self.pred(x)\n"
     ]
    },
    {
     "name": "stdout",
     "output_type": "stream",
     "text": [
      "train loss when 380 = 0.6556215286254883\n",
      "tensor([[0.3630, 0.6370],\n",
      "        [0.1708, 0.8292],\n",
      "        [0.5830, 0.4170]])\n",
      "tensor([1, 1, 0])\n",
      "test loss: tensor(0.6633)\n",
      "AUC score: 0.5988877085168529\n",
      "accuracy of NN: 0.6033025740650801\n"
     ]
    },
    {
     "name": "stderr",
     "output_type": "stream",
     "text": [
      "<ipython-input-37-d25a781fd965>:62: UserWarning: Implicit dimension choice for softmax has been deprecated. Change the call to include dim=X as an argument.\n",
      "  out = self.pred(x)\n"
     ]
    },
    {
     "name": "stdout",
     "output_type": "stream",
     "text": [
      "train loss when 390 = 0.6534356474876404\n",
      "tensor([[0.3926, 0.6074],\n",
      "        [0.1769, 0.8231],\n",
      "        [0.6031, 0.3969]])\n",
      "tensor([1, 1, 0])\n",
      "test loss: tensor(0.6630)\n",
      "AUC score: 0.6017853908246082\n",
      "accuracy of NN: 0.604273919378339\n"
     ]
    },
    {
     "name": "stderr",
     "output_type": "stream",
     "text": [
      "<ipython-input-37-d25a781fd965>:62: UserWarning: Implicit dimension choice for softmax has been deprecated. Change the call to include dim=X as an argument.\n",
      "  out = self.pred(x)\n"
     ]
    },
    {
     "name": "stdout",
     "output_type": "stream",
     "text": [
      "train loss when 400 = 0.673840343952179\n",
      "tensor([[0.3524, 0.6476],\n",
      "        [0.1573, 0.8427],\n",
      "        [0.5631, 0.4369]])\n",
      "tensor([1, 1, 0])\n",
      "test loss: tensor(0.6634)\n",
      "AUC score: 0.597325353574849\n",
      "accuracy of NN: 0.6020398251578436\n"
     ]
    },
    {
     "name": "stderr",
     "output_type": "stream",
     "text": [
      "<ipython-input-37-d25a781fd965>:62: UserWarning: Implicit dimension choice for softmax has been deprecated. Change the call to include dim=X as an argument.\n",
      "  out = self.pred(x)\n"
     ]
    },
    {
     "name": "stdout",
     "output_type": "stream",
     "text": [
      "train loss when 410 = 0.6655652523040771\n",
      "tensor([[0.5179, 0.4821],\n",
      "        [0.2437, 0.7563],\n",
      "        [0.7210, 0.2790]])\n",
      "tensor([1, 1, 0])\n",
      "test loss: tensor(0.6670)\n",
      "AUC score: 0.5921812095859919\n",
      "accuracy of NN: 0.5890237979601748\n"
     ]
    },
    {
     "name": "stderr",
     "output_type": "stream",
     "text": [
      "<ipython-input-37-d25a781fd965>:62: UserWarning: Implicit dimension choice for softmax has been deprecated. Change the call to include dim=X as an argument.\n",
      "  out = self.pred(x)\n"
     ]
    },
    {
     "name": "stdout",
     "output_type": "stream",
     "text": [
      "train loss when 420 = 0.6447210311889648\n",
      "tensor([[0.3661, 0.6339],\n",
      "        [0.1827, 0.8173],\n",
      "        [0.6180, 0.3820]])\n",
      "tensor([1, 1, 0])\n",
      "test loss: tensor(0.6634)\n",
      "AUC score: 0.5981131649685337\n",
      "accuracy of NN: 0.6019426906265177\n"
     ]
    },
    {
     "name": "stderr",
     "output_type": "stream",
     "text": [
      "<ipython-input-37-d25a781fd965>:62: UserWarning: Implicit dimension choice for softmax has been deprecated. Change the call to include dim=X as an argument.\n",
      "  out = self.pred(x)\n"
     ]
    },
    {
     "name": "stdout",
     "output_type": "stream",
     "text": [
      "train loss when 430 = 0.617263913154602\n",
      "tensor([[0.4469, 0.5531],\n",
      "        [0.2030, 0.7970],\n",
      "        [0.6501, 0.3499]])\n",
      "tensor([1, 1, 0])\n",
      "test loss: tensor(0.6637)\n",
      "AUC score: 0.6006188410359412\n",
      "accuracy of NN: 0.6009713453132589\n"
     ]
    },
    {
     "name": "stderr",
     "output_type": "stream",
     "text": [
      "<ipython-input-37-d25a781fd965>:62: UserWarning: Implicit dimension choice for softmax has been deprecated. Change the call to include dim=X as an argument.\n",
      "  out = self.pred(x)\n"
     ]
    },
    {
     "name": "stdout",
     "output_type": "stream",
     "text": [
      "train loss when 440 = 0.6672486066818237\n",
      "tensor([[0.3327, 0.6673],\n",
      "        [0.1465, 0.8535],\n",
      "        [0.5456, 0.4544]])\n",
      "tensor([1, 1, 0])\n",
      "test loss: tensor(0.6643)\n",
      "AUC score: 0.592191925922633\n",
      "accuracy of NN: 0.5985429820301117\n"
     ]
    },
    {
     "name": "stderr",
     "output_type": "stream",
     "text": [
      "<ipython-input-37-d25a781fd965>:62: UserWarning: Implicit dimension choice for softmax has been deprecated. Change the call to include dim=X as an argument.\n",
      "  out = self.pred(x)\n"
     ]
    },
    {
     "name": "stdout",
     "output_type": "stream",
     "text": [
      "train loss when 450 = 0.673416018486023\n",
      "tensor([[0.4443, 0.5557],\n",
      "        [0.2418, 0.7582],\n",
      "        [0.6789, 0.3211]])\n",
      "tensor([1, 1, 0])\n",
      "test loss: tensor(0.6645)\n",
      "AUC score: 0.5990929443185952\n",
      "accuracy of NN: 0.5982515784361341\n"
     ]
    },
    {
     "name": "stderr",
     "output_type": "stream",
     "text": [
      "<ipython-input-37-d25a781fd965>:62: UserWarning: Implicit dimension choice for softmax has been deprecated. Change the call to include dim=X as an argument.\n",
      "  out = self.pred(x)\n"
     ]
    },
    {
     "name": "stdout",
     "output_type": "stream",
     "text": [
      "train loss when 460 = 0.6478293538093567\n",
      "tensor([[0.4021, 0.5979],\n",
      "        [0.1790, 0.8210],\n",
      "        [0.6295, 0.3705]])\n",
      "tensor([1, 1, 0])\n",
      "test loss: tensor(0.6630)\n",
      "AUC score: 0.600400167288252\n",
      "accuracy of NN: 0.6029140359397765\n"
     ]
    },
    {
     "name": "stderr",
     "output_type": "stream",
     "text": [
      "<ipython-input-37-d25a781fd965>:62: UserWarning: Implicit dimension choice for softmax has been deprecated. Change the call to include dim=X as an argument.\n",
      "  out = self.pred(x)\n"
     ]
    },
    {
     "name": "stdout",
     "output_type": "stream",
     "text": [
      "train loss when 470 = 0.629815936088562\n",
      "tensor([[0.3544, 0.6456],\n",
      "        [0.1638, 0.8362],\n",
      "        [0.5834, 0.4166]])\n",
      "tensor([1, 1, 0])\n",
      "test loss: tensor(0.6631)\n",
      "AUC score: 0.5981880281245058\n",
      "accuracy of NN: 0.6027197668771248\n"
     ]
    },
    {
     "name": "stderr",
     "output_type": "stream",
     "text": [
      "<ipython-input-37-d25a781fd965>:62: UserWarning: Implicit dimension choice for softmax has been deprecated. Change the call to include dim=X as an argument.\n",
      "  out = self.pred(x)\n"
     ]
    },
    {
     "name": "stdout",
     "output_type": "stream",
     "text": [
      "train loss when 480 = 0.6551232933998108\n",
      "tensor([[0.4695, 0.5305],\n",
      "        [0.2677, 0.7323],\n",
      "        [0.6988, 0.3012]])\n",
      "tensor([1, 1, 0])\n",
      "test loss: tensor(0.6673)\n",
      "AUC score: 0.5932461904273744\n",
      "accuracy of NN: 0.5898980087421078\n"
     ]
    },
    {
     "name": "stderr",
     "output_type": "stream",
     "text": [
      "<ipython-input-37-d25a781fd965>:62: UserWarning: Implicit dimension choice for softmax has been deprecated. Change the call to include dim=X as an argument.\n",
      "  out = self.pred(x)\n"
     ]
    },
    {
     "name": "stdout",
     "output_type": "stream",
     "text": [
      "train loss when 490 = 0.6819605231285095\n",
      "tensor([[0.3907, 0.6093],\n",
      "        [0.1906, 0.8094],\n",
      "        [0.6152, 0.3848]])\n",
      "tensor([1, 1, 0])\n",
      "test loss: tensor(0.6631)\n",
      "AUC score: 0.5999149459291832\n",
      "accuracy of NN: 0.6020398251578436\n"
     ]
    },
    {
     "name": "stderr",
     "output_type": "stream",
     "text": [
      "<ipython-input-37-d25a781fd965>:62: UserWarning: Implicit dimension choice for softmax has been deprecated. Change the call to include dim=X as an argument.\n",
      "  out = self.pred(x)\n"
     ]
    }
   ],
   "source": [
    "# from sklearn.neighbors import KNeighborsClassifier\n",
    "# from sklearn.metrics import roc_auc_score\n",
    "# import numpy as np\n",
    "# import matplotlib.pyplot as plt\n",
    "\n",
    "# K = [1, 10, 30, 50, 70]\n",
    "\n",
    "# tr_auc = np.zeros((len(K),))\n",
    "# va_auc = np.zeros((len(K),))\n",
    "\n",
    "# for i, k in enumerate(K):\n",
    "#     knn = KNeighborsClassifier(n_neighbors=k)\n",
    "#     knn.fit(trainX, trainY)\n",
    "#     tr_auc[i] = roc_auc_score(trainY, knn.predict_proba(trainX)[:, 1])\n",
    "#     va_auc[i] = roc_auc_score(testY, knn.predict_proba(testX)[:, 1])\n",
    "\n",
    "# f, ax = plt.subplots(1, 1, figsize=(8, 5))\n",
    "# cax = ax.matshow(va_auc.reshape(1, -1), interpolation='nearest')\n",
    "# f.colorbar(cax)\n",
    "# ax.set_xticklabels(['']+K)\n",
    "# plt.title(\"K Nearest Neighbour:Validation AUC\")\n",
    "# plt.show()\n",
    "import torch\n",
    "from sklearn.model_selection import KFold\n",
    "\n",
    "device = torch.device('cuda' if torch.cuda.is_available() else 'cpu')\n",
    "print('Using device:', device)\n",
    "print()\n",
    "\n",
    "D_in = trainX.shape[1]\n",
    "\n",
    "class Dota2Predictor(torch.nn.Module):\n",
    "    def __init__(self):\n",
    "        \"\"\"\n",
    "        In the constructor we instantiate two nn.Linear modules and assign them as\n",
    "        member variables.\n",
    "        \"\"\"\n",
    "        super(Dota2Predictor, self).__init__()\n",
    "\n",
    "        def linearBlock(D_in, D_out):\n",
    "          return torch.nn.Sequential(\n",
    "              torch.nn.Linear(D_in, D_out),\n",
    "              torch.nn.ReLU())\n",
    "                                    \n",
    "\n",
    "        self.blocks = torch.nn.Sequential(\n",
    "            linearBlock(D_in, max(64,D_in*2)),\n",
    "            linearBlock(max(64,D_in*2), 128),\n",
    "            linearBlock(128, 16),\n",
    "        )\n",
    "        self.last = torch.nn.Linear(16, 2)\n",
    "        self.pred = torch.nn.Softmax()\n",
    "\n",
    "    def forward(self, x):\n",
    "        \"\"\"\n",
    "        In the forward function we accept a Tensor of input data and we must return\n",
    "        a Tensor of output data. We can use Modules defined in the constructor as\n",
    "        well as arbitrary operators on Tensors.\n",
    "        \"\"\"\n",
    "        x = self.blocks(x)\n",
    "        x = self.last(x)\n",
    "        out = self.pred(x)\n",
    "        return out\n",
    "\n",
    "\n",
    "\n",
    "def train(trainX,trainY,testX,testY):\n",
    "  # Construct our model by instantiating the class defined above\n",
    "  model = Dota2Predictor()\n",
    "\n",
    "  tensorX = torch.from_numpy(trainX).float()\n",
    "  tensorY = torch.from_numpy(trainY)\n",
    "\n",
    "  tensorTestX = torch.from_numpy(testX).float()\n",
    "  tensorTestY = torch.from_numpy(testY)\n",
    "\n",
    "  criterion = torch.nn.CrossEntropyLoss()\n",
    "  optimizer = torch.optim.Adam(model.parameters(), lr=0.001, weight_decay= 0.001)\n",
    "\n",
    "  num_epochs = 500\n",
    "  batch_size = 128\n",
    "  train_loss = []\n",
    "  test_loss = []\n",
    "  for t in range(num_epochs):\n",
    "\n",
    "    permutation = torch.randperm(tensorX.size()[0])\n",
    "\n",
    "    for i in range(0,tensorX.size()[0], batch_size):\n",
    "      indices = permutation[i:i+batch_size]\n",
    "      batch_x, batch_y = tensorX[indices], tensorY[indices]\n",
    "      y_pred = model(batch_x)\n",
    "      # Compute and print loss\n",
    "      loss = criterion(y_pred, batch_y)\n",
    "\n",
    "      # Zero gradients, perform a backward pass, and update the weights.\n",
    "      optimizer.zero_grad()\n",
    "      loss.backward()\n",
    "      optimizer.step()\n",
    "    if t % 10 == 0:\n",
    "      print(\"train loss when {} = {}\".format(t,loss.item()))\n",
    "      with torch.no_grad():\n",
    "        predY = model(tensorTestX)\n",
    "        loss = criterion(predY, tensorTestY)\n",
    "        print(predY[:3])\n",
    "        print(tensorTestY[:3])\n",
    "        print(\"test loss:\",loss)\n",
    "        out = torch.argmax(predY,axis = 1).numpy()\n",
    "        auc = roc_auc_score(testY, out)\n",
    "        print(\"AUC score:\", auc)\n",
    "        print(\"accuracy of NN:\", accuracy_score(testY, out))\n",
    "\n",
    "\n",
    "# kf = KFold(n_splits=5)\n",
    "# for train_index, test_index in kf.split(allX, allY):  \n",
    "#     x_train_fold = allX[train_index] \n",
    "#     y_train_fold = allY[train_index] \n",
    "#     x_test_fold = allX[test_index] \n",
    "#     y_test_fold = allY[test_index] \n",
    "#     train(x_train_fold, y_train_fold, x_test_fold, y_test_fold)\n",
    "\n",
    "\n",
    "train(trainX,trainY,testX,testY)"
   ]
  },
  {
   "cell_type": "markdown",
   "metadata": {
    "id": "8AxzgpFHMrTA"
   },
   "source": [
    "#Result and Discussion"
   ]
  },
  {
   "cell_type": "markdown",
   "metadata": {
    "id": "40awQighPhpR"
   },
   "source": [
    "\n",
    "<div style=\"text-align:justify\">\n",
    "In all, all of the machine learning models perfom not that good. In our opinion, the dataset does not include much useful information. In reality, when we are playing the game, although the hero choice is important to win, for example, a team including a tank and healer have more probability to beat the other unbalanced team, the winning rate could not be exact predicted using only the choice of heroes. Our point is that, heroes in the team may not have a big effect on the winning rate, but the player behind the hero matters. One professional player will carry the whole team no matter which heroes his teammates choose if the other side are all newcomers. To improve the model, we had better gain more information, for example, the time length of the game, the players' length of career in this game and so on.\n",
    "</div>"
   ]
  },
  {
   "cell_type": "markdown",
   "metadata": {
    "id": "kikVtNMDQ6tL"
   },
   "source": [
    "#Prediction"
   ]
  },
  {
   "cell_type": "code",
   "execution_count": 37,
   "metadata": {},
   "outputs": [
    {
     "name": "stderr",
     "output_type": "stream",
     "text": [
      "/Library/Frameworks/Python.framework/Versions/3.10/lib/python3.10/site-packages/sklearn/svm/_base.py:1244: ConvergenceWarning: Liblinear failed to converge, increase the number of iterations.\n",
      "  warnings.warn(\n",
      "/Library/Frameworks/Python.framework/Versions/3.10/lib/python3.10/site-packages/sklearn/svm/_base.py:1244: ConvergenceWarning: Liblinear failed to converge, increase the number of iterations.\n",
      "  warnings.warn(\n",
      "/Library/Frameworks/Python.framework/Versions/3.10/lib/python3.10/site-packages/sklearn/svm/_base.py:1244: ConvergenceWarning: Liblinear failed to converge, increase the number of iterations.\n",
      "  warnings.warn(\n",
      "/Library/Frameworks/Python.framework/Versions/3.10/lib/python3.10/site-packages/sklearn/svm/_base.py:1244: ConvergenceWarning: Liblinear failed to converge, increase the number of iterations.\n",
      "  warnings.warn(\n",
      "/Library/Frameworks/Python.framework/Versions/3.10/lib/python3.10/site-packages/sklearn/svm/_base.py:1244: ConvergenceWarning: Liblinear failed to converge, increase the number of iterations.\n",
      "  warnings.warn(\n"
     ]
    },
    {
     "data": {
      "text/html": [
       "<style>#sk-container-id-2 {color: black;background-color: white;}#sk-container-id-2 pre{padding: 0;}#sk-container-id-2 div.sk-toggleable {background-color: white;}#sk-container-id-2 label.sk-toggleable__label {cursor: pointer;display: block;width: 100%;margin-bottom: 0;padding: 0.3em;box-sizing: border-box;text-align: center;}#sk-container-id-2 label.sk-toggleable__label-arrow:before {content: \"▸\";float: left;margin-right: 0.25em;color: #696969;}#sk-container-id-2 label.sk-toggleable__label-arrow:hover:before {color: black;}#sk-container-id-2 div.sk-estimator:hover label.sk-toggleable__label-arrow:before {color: black;}#sk-container-id-2 div.sk-toggleable__content {max-height: 0;max-width: 0;overflow: hidden;text-align: left;background-color: #f0f8ff;}#sk-container-id-2 div.sk-toggleable__content pre {margin: 0.2em;color: black;border-radius: 0.25em;background-color: #f0f8ff;}#sk-container-id-2 input.sk-toggleable__control:checked~div.sk-toggleable__content {max-height: 200px;max-width: 100%;overflow: auto;}#sk-container-id-2 input.sk-toggleable__control:checked~label.sk-toggleable__label-arrow:before {content: \"▾\";}#sk-container-id-2 div.sk-estimator input.sk-toggleable__control:checked~label.sk-toggleable__label {background-color: #d4ebff;}#sk-container-id-2 div.sk-label input.sk-toggleable__control:checked~label.sk-toggleable__label {background-color: #d4ebff;}#sk-container-id-2 input.sk-hidden--visually {border: 0;clip: rect(1px 1px 1px 1px);clip: rect(1px, 1px, 1px, 1px);height: 1px;margin: -1px;overflow: hidden;padding: 0;position: absolute;width: 1px;}#sk-container-id-2 div.sk-estimator {font-family: monospace;background-color: #f0f8ff;border: 1px dotted black;border-radius: 0.25em;box-sizing: border-box;margin-bottom: 0.5em;}#sk-container-id-2 div.sk-estimator:hover {background-color: #d4ebff;}#sk-container-id-2 div.sk-parallel-item::after {content: \"\";width: 100%;border-bottom: 1px solid gray;flex-grow: 1;}#sk-container-id-2 div.sk-label:hover label.sk-toggleable__label {background-color: #d4ebff;}#sk-container-id-2 div.sk-serial::before {content: \"\";position: absolute;border-left: 1px solid gray;box-sizing: border-box;top: 0;bottom: 0;left: 50%;z-index: 0;}#sk-container-id-2 div.sk-serial {display: flex;flex-direction: column;align-items: center;background-color: white;padding-right: 0.2em;padding-left: 0.2em;position: relative;}#sk-container-id-2 div.sk-item {position: relative;z-index: 1;}#sk-container-id-2 div.sk-parallel {display: flex;align-items: stretch;justify-content: center;background-color: white;position: relative;}#sk-container-id-2 div.sk-item::before, #sk-container-id-2 div.sk-parallel-item::before {content: \"\";position: absolute;border-left: 1px solid gray;box-sizing: border-box;top: 0;bottom: 0;left: 50%;z-index: -1;}#sk-container-id-2 div.sk-parallel-item {display: flex;flex-direction: column;z-index: 1;position: relative;background-color: white;}#sk-container-id-2 div.sk-parallel-item:first-child::after {align-self: flex-end;width: 50%;}#sk-container-id-2 div.sk-parallel-item:last-child::after {align-self: flex-start;width: 50%;}#sk-container-id-2 div.sk-parallel-item:only-child::after {width: 0;}#sk-container-id-2 div.sk-dashed-wrapped {border: 1px dashed gray;margin: 0 0.4em 0.5em 0.4em;box-sizing: border-box;padding-bottom: 0.4em;background-color: white;}#sk-container-id-2 div.sk-label label {font-family: monospace;font-weight: bold;display: inline-block;line-height: 1.2em;}#sk-container-id-2 div.sk-label-container {text-align: center;}#sk-container-id-2 div.sk-container {/* jupyter's `normalize.less` sets `[hidden] { display: none; }` but bootstrap.min.css set `[hidden] { display: none !important; }` so we also need the `!important` here to be able to override the default hidden behavior on the sphinx rendered scikit-learn.org. See: https://github.com/scikit-learn/scikit-learn/issues/21755 */display: inline-block !important;position: relative;}#sk-container-id-2 div.sk-text-repr-fallback {display: none;}</style><div id=\"sk-container-id-2\" class=\"sk-top-container\"><div class=\"sk-text-repr-fallback\"><pre>CalibratedClassifierCV(estimator=LinearSVC())</pre><b>In a Jupyter environment, please rerun this cell to show the HTML representation or trust the notebook. <br />On GitHub, the HTML representation is unable to render, please try loading this page with nbviewer.org.</b></div><div class=\"sk-container\" hidden><div class=\"sk-item sk-dashed-wrapped\"><div class=\"sk-label-container\"><div class=\"sk-label sk-toggleable\"><input class=\"sk-toggleable__control sk-hidden--visually\" id=\"sk-estimator-id-2\" type=\"checkbox\" ><label for=\"sk-estimator-id-2\" class=\"sk-toggleable__label sk-toggleable__label-arrow\">CalibratedClassifierCV</label><div class=\"sk-toggleable__content\"><pre>CalibratedClassifierCV(estimator=LinearSVC())</pre></div></div></div><div class=\"sk-parallel\"><div class=\"sk-parallel-item\"><div class=\"sk-item\"><div class=\"sk-label-container\"><div class=\"sk-label sk-toggleable\"><input class=\"sk-toggleable__control sk-hidden--visually\" id=\"sk-estimator-id-3\" type=\"checkbox\" ><label for=\"sk-estimator-id-3\" class=\"sk-toggleable__label sk-toggleable__label-arrow\">estimator: LinearSVC</label><div class=\"sk-toggleable__content\"><pre>LinearSVC()</pre></div></div></div><div class=\"sk-serial\"><div class=\"sk-item\"><div class=\"sk-estimator sk-toggleable\"><input class=\"sk-toggleable__control sk-hidden--visually\" id=\"sk-estimator-id-4\" type=\"checkbox\" ><label for=\"sk-estimator-id-4\" class=\"sk-toggleable__label sk-toggleable__label-arrow\">LinearSVC</label><div class=\"sk-toggleable__content\"><pre>LinearSVC()</pre></div></div></div></div></div></div></div></div></div></div>"
      ],
      "text/plain": [
       "CalibratedClassifierCV(estimator=LinearSVC())"
      ]
     },
     "execution_count": 37,
     "metadata": {},
     "output_type": "execute_result"
    }
   ],
   "source": [
    "from sklearn.calibration import CalibratedClassifierCV\n",
    "clf2 = CalibratedClassifierCV(svm.LinearSVC())\n",
    "clf2.fit(trainX, trainY)"
   ]
  },
  {
   "cell_type": "code",
   "execution_count": 38,
   "metadata": {},
   "outputs": [
    {
     "name": "stdout",
     "output_type": "stream",
     "text": [
      "Input allies : ['Omniknight', 'Elder Titan', 'Necrophos', 'Spectre']\n",
      "Input enemies : ['Broodmother', 'Phantom Assassin', 'Pudge', 'Legion Commander', 'Skeleton King']\n",
      "The best hero choice is  Lone Druid  with the win probability of  0.2758915880757993\n"
     ]
    }
   ],
   "source": [
    "input_allies = ['Omniknight', 'Elder Titan', 'Necrophos', 'Spectre']\n",
    "input_enemies = ['Broodmother', 'Phantom Assassin', 'Pudge', 'Legion Commander', 'Skeleton King']\n",
    "\n",
    "input_X = np.array([0 for x in range(333)])\n",
    "\n",
    "#translate input into X format\n",
    "#0->010, 1->001, -1->100\n",
    "for i in range(len(input_allies)):\n",
    "    temp = hero_names.index(input_allies[i])\n",
    "    input_X[3 * temp + 2] = 1\n",
    "for i in range(len(input_enemies)):\n",
    "    temp = hero_names.index(input_enemies[i])\n",
    "    input_X[3 * temp] = 1\n",
    "\n",
    "max_wp = 0.0\n",
    "location_wp = 0\n",
    "\n",
    "enemy_picks = [hero_names.index(name) for name in input_enemies]\n",
    "#we use this into a loop to find the best win probability heroes\n",
    "for i in range(len(hero_names)):\n",
    "    if input_X[i] == 0 and i not in enemy_picks:\n",
    "        temp = input_X.copy()\n",
    "        temp[3*i+2] = 1\n",
    "        for j in range(len(hero_names)):\n",
    "            if j not in [hero_names.index(name) for name in input_allies] and j != i and j not in enemy_picks:\n",
    "                temp[j * 3 + 1] = 1\n",
    "    \n",
    "        #now we use this temp to compute the win probability\n",
    "        wp = clf2.predict_proba(temp.reshape(1, -1))\n",
    "        if wp[0][0] > max_wp:\n",
    "            max_wp = wp[0][0]\n",
    "            location_wp = i\n",
    "\n",
    "print(\"Input allies :\", input_allies)\n",
    "print(\"Input enemies :\", input_enemies)\n",
    "print(\"The best hero choice is \", hero_names[location_wp], \" with the win probability of \", max_wp)"
   ]
  }
 ],
 "metadata": {
  "accelerator": "GPU",
  "colab": {
   "provenance": []
  },
  "kernelspec": {
   "display_name": "Python 3",
   "language": "python",
   "name": "python3"
  },
  "language_info": {
   "codemirror_mode": {
    "name": "ipython",
    "version": 3
   },
   "file_extension": ".py",
   "mimetype": "text/x-python",
   "name": "python",
   "nbconvert_exporter": "python",
   "pygments_lexer": "ipython3",
   "version": "3.8.5"
  }
 },
 "nbformat": 4,
 "nbformat_minor": 1
}
